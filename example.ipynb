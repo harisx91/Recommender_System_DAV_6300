{
 "cells": [
  {
   "cell_type": "code",
   "execution_count": 1,
   "id": "4b6bbdbf",
   "metadata": {},
   "outputs": [],
   "source": [
    "f = open(\"example.txt\")"
   ]
  },
  {
   "cell_type": "code",
   "execution_count": 2,
   "id": "606454e7",
   "metadata": {},
   "outputs": [
    {
     "name": "stdout",
     "output_type": "stream",
     "text": [
      "Hello! Welcome to example.txt\n",
      "This file is a example.\n",
      "Good Luck!\n",
      "Hello\n"
     ]
    }
   ],
   "source": [
    "try:\n",
    "    with open(\"example.txt\", \"r\") as file:\n",
    "        file_content = file.read()\n",
    "        print(file_content)\n",
    "except FileNotFoundError:\n",
    "    print(\"The file 'example.txt' was not found.\")\n",
    "except IOError:\n",
    "    print(\"An error occurred while reading the file.\")"
   ]
  },
  {
   "cell_type": "code",
   "execution_count": 74,
   "id": "b532d9ba",
   "metadata": {},
   "outputs": [],
   "source": [
    "#Let's first create a list\n",
    "my_list = [0,1,2,3,4,5,6,7,8,9,10]\n",
    "#this my_list will be a global variable that will be called into the function\n"
   ]
  },
  {
   "cell_type": "code",
   "execution_count": 76,
   "id": "d0206c65",
   "metadata": {},
   "outputs": [
    {
     "name": "stdout",
     "output_type": "stream",
     "text": [
      "Invalid input: Index must be an integer.\n"
     ]
    }
   ],
   "source": [
    "#taking my_list and index as an argument in func_index function\n",
    "def func_index(my_list, index):\n",
    "    #if instane is not present then...\n",
    "    if not isinstance(index, int):\n",
    "        return \"Invalid input: Index must be an integer.\" #returning this output\n",
    "    \n",
    "    try:\n",
    "        element = my_list[index]\n",
    "        return element\n",
    "    \n",
    "    except IndexError:\n",
    "        return \"Error message: Index is out of range.\" #if index is out of range then return this output\n",
    "\n",
    "\n",
    "#Let's take an index\n",
    "index = [\"a\"]\n",
    "result = func_index(my_list, index)\n",
    "print(result)  # Output would the specified index or error message or invalid input"
   ]
  },
  {
   "cell_type": "markdown",
   "id": "2f3dfd50",
   "metadata": {},
   "source": [
    "This is doing to take the my_list values, and we can take the index. If the index is anywhere 0-10 then it will print out the index. If index is outside of the range then it will print out Error message stating that index is out of range. And, if I entered anything other than integer in the index then it will print out the message \"Invalid input: Index must be an ineger\"."
   ]
  },
  {
   "cell_type": "code",
   "execution_count": null,
   "id": "d86cea07",
   "metadata": {},
   "outputs": [],
   "source": []
  }
 ],
 "metadata": {
  "kernelspec": {
   "display_name": "Python 3 (ipykernel)",
   "language": "python",
   "name": "python3"
  },
  "language_info": {
   "codemirror_mode": {
    "name": "ipython",
    "version": 3
   },
   "file_extension": ".py",
   "mimetype": "text/x-python",
   "name": "python",
   "nbconvert_exporter": "python",
   "pygments_lexer": "ipython3",
   "version": "3.10.9"
  }
 },
 "nbformat": 4,
 "nbformat_minor": 5
}
