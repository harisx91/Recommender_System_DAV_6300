{
 "cells": [
  {
   "cell_type": "markdown",
   "id": "cc581061",
   "metadata": {},
   "source": [
    "## Final: Song List Collaborative Filtering\n",
    "#### Haris Sumra\n",
    "\n",
    "### Our task involves constructing a fundamental recommender system using a Last.fm dataset accessible through GroupLens on behalf of Lab41. The dataset, procured from LastFM back in 2011, encompasses the play frequencies of 17,632 artists as tracked by 1,892 users. In this project we are going to utilize collaborative filtering that relies on the interactions and preferences of users to generate recommendations. It identifies patterns and similarities among users and items. "
   ]
  },
  {
   "cell_type": "code",
   "execution_count": 89,
   "id": "a1811313",
   "metadata": {},
   "outputs": [
    {
     "name": "stdout",
     "output_type": "stream",
     "text": [
      "Requirement already satisfied: fuzzywuzzy in /Users/harisx91/anaconda3/lib/python3.10/site-packages (0.18.0)\r\n"
     ]
    }
   ],
   "source": [
    "!pip3 install fuzzywuzzy"
   ]
  },
  {
   "cell_type": "markdown",
   "id": "315346db",
   "metadata": {},
   "source": [
    "Importing Dependencies"
   ]
  },
  {
   "cell_type": "code",
   "execution_count": 101,
   "id": "582d4a05",
   "metadata": {},
   "outputs": [
    {
     "name": "stdout",
     "output_type": "stream",
     "text": [
      "Kernel: /Users/harisx91/anaconda3/bin/python\n"
     ]
    }
   ],
   "source": [
    "# check kernel environment\n",
    "import sys\n",
    "print(\"Kernel: {}\".format(sys.executable))\n",
    "\n",
    "# Core data analysis packages\n",
    "import pandas as pd\n",
    "import numpy as np\n",
    "\n",
    "# Compressed Sparse Row (\"CSR\") matrix\n",
    "from scipy.sparse import csr_matrix \n",
    "\n",
    "# use K-Nearest Neighbors to find cosine distance amongst artists\n",
    "from sklearn.neighbors import NearestNeighbors\n",
    "\n",
    "# fuzzy string matching to allow for differing spelling of artist names\n",
    "from fuzzywuzzy import fuzz, process\n",
    "\n",
    "# set output to three decimals\n",
    "pd.set_option('display.float_format',lambda x: '%.2f' %x)\n",
    "\n",
    "# set seed for reproducibility of random number initializations\n",
    "seed = np.random.RandomState(seed=42)"
   ]
  },
  {
   "cell_type": "markdown",
   "id": "8c40d6c7",
   "metadata": {},
   "source": [
    "Importing Datasets"
   ]
  },
  {
   "cell_type": "code",
   "execution_count": 102,
   "id": "feb58b01",
   "metadata": {},
   "outputs": [],
   "source": [
    "# import our files\n",
    "plays = pd.read_csv('../data/user_artists.dat',sep='\\t')\n",
    "artists = pd.read_csv('../data/artists.dat',sep='\\t',usecols=['id','name'])\n",
    "\n",
    "# we import to understand what datapoints we have, but do not use these \n",
    "# in our collaborative engine\n",
    "tags = pd.read_csv('../data/tags.dat', sep='\\t',encoding='latin-1')\n",
    "uta = pd.read_csv('../data/user_taggedartists.dat', sep='\\t')\n",
    "utat = pd.read_csv('../data/user_taggedartists-timestamps.dat', sep=\"\\t\")\n",
    "friends = pd.read_csv('../data/user_friends.dat', sep='\\t')"
   ]
  },
  {
   "cell_type": "code",
   "execution_count": 103,
   "id": "492184c9",
   "metadata": {},
   "outputs": [],
   "source": [
    "# create a function to provide various statistics on our data files\n",
    "def print_info(df_list, df_name):\n",
    "    \n",
    "    # assertion to ensure our two lists are equal in length (ie we didn't make any mistakes)\n",
    "    assert len(df_list) == len(df_name)\n",
    "\n",
    "    for i in range(len(df_list)):\n",
    "        print(df_name[i],'\\n')\n",
    "        print(\"Shape: {}\\n\".format(df_list[i].shape))\n",
    "        print(\"Info:\")\n",
    "        print(df_list[i].info(),'\\n')\n",
    "        print(\"Unique:\\n{}\\n\".format(df_list[i].nunique()))     \n",
    "        \n",
    "        # This returns True if no duplicates are dropped (ie duplicates do not exist)\n",
    "        print(\"No duplicates: {}\\n\".format(len(df_list[i])==len(df_list[i].drop_duplicates())))"
   ]
  },
  {
   "cell_type": "markdown",
   "id": "39cdd1d6",
   "metadata": {},
   "source": [
    "This function takes in two lists: \"df_list\" containing the dataframes you want to analyze, and \"df_name\" containing corresponding names or labels for each dataframe. It then provides various statistics and information about each dataframe, such as shape, info, number of unique values, and whether duplicates exist. "
   ]
  },
  {
   "cell_type": "code",
   "execution_count": 104,
   "id": "c243724c",
   "metadata": {},
   "outputs": [
    {
     "name": "stdout",
     "output_type": "stream",
     "text": [
      "Plays \n",
      "\n",
      "Shape: (92834, 3)\n",
      "\n",
      "Info:\n",
      "<class 'pandas.core.frame.DataFrame'>\n",
      "RangeIndex: 92834 entries, 0 to 92833\n",
      "Data columns (total 3 columns):\n",
      " #   Column    Non-Null Count  Dtype\n",
      "---  ------    --------------  -----\n",
      " 0   userID    92834 non-null  int64\n",
      " 1   artistID  92834 non-null  int64\n",
      " 2   weight    92834 non-null  int64\n",
      "dtypes: int64(3)\n",
      "memory usage: 2.1 MB\n",
      "None \n",
      "\n",
      "Unique:\n",
      "userID       1892\n",
      "artistID    17632\n",
      "weight       5436\n",
      "dtype: int64\n",
      "\n",
      "No duplicates: True\n",
      "\n",
      "Artists \n",
      "\n",
      "Shape: (17632, 2)\n",
      "\n",
      "Info:\n",
      "<class 'pandas.core.frame.DataFrame'>\n",
      "RangeIndex: 17632 entries, 0 to 17631\n",
      "Data columns (total 2 columns):\n",
      " #   Column  Non-Null Count  Dtype \n",
      "---  ------  --------------  ----- \n",
      " 0   id      17632 non-null  int64 \n",
      " 1   name    17632 non-null  object\n",
      "dtypes: int64(1), object(1)\n",
      "memory usage: 275.6+ KB\n",
      "None \n",
      "\n",
      "Unique:\n",
      "id      17632\n",
      "name    17632\n",
      "dtype: int64\n",
      "\n",
      "No duplicates: True\n",
      "\n",
      "Tags \n",
      "\n",
      "Shape: (11946, 2)\n",
      "\n",
      "Info:\n",
      "<class 'pandas.core.frame.DataFrame'>\n",
      "RangeIndex: 11946 entries, 0 to 11945\n",
      "Data columns (total 2 columns):\n",
      " #   Column    Non-Null Count  Dtype \n",
      "---  ------    --------------  ----- \n",
      " 0   tagID     11946 non-null  int64 \n",
      " 1   tagValue  11946 non-null  object\n",
      "dtypes: int64(1), object(1)\n",
      "memory usage: 186.8+ KB\n",
      "None \n",
      "\n",
      "Unique:\n",
      "tagID       11946\n",
      "tagValue    11946\n",
      "dtype: int64\n",
      "\n",
      "No duplicates: True\n",
      "\n",
      "User Tagged Artists (Date) \n",
      "\n",
      "Shape: (186479, 6)\n",
      "\n",
      "Info:\n",
      "<class 'pandas.core.frame.DataFrame'>\n",
      "RangeIndex: 186479 entries, 0 to 186478\n",
      "Data columns (total 6 columns):\n",
      " #   Column    Non-Null Count   Dtype\n",
      "---  ------    --------------   -----\n",
      " 0   userID    186479 non-null  int64\n",
      " 1   artistID  186479 non-null  int64\n",
      " 2   tagID     186479 non-null  int64\n",
      " 3   day       186479 non-null  int64\n",
      " 4   month     186479 non-null  int64\n",
      " 5   year      186479 non-null  int64\n",
      "dtypes: int64(6)\n",
      "memory usage: 8.5 MB\n",
      "None \n",
      "\n",
      "Unique:\n",
      "userID       1892\n",
      "artistID    12523\n",
      "tagID        9749\n",
      "day             4\n",
      "month          12\n",
      "year           10\n",
      "dtype: int64\n",
      "\n",
      "No duplicates: True\n",
      "\n",
      "User Tagged Artists (Timestamp) \n",
      "\n",
      "Shape: (186479, 4)\n",
      "\n",
      "Info:\n",
      "<class 'pandas.core.frame.DataFrame'>\n",
      "RangeIndex: 186479 entries, 0 to 186478\n",
      "Data columns (total 4 columns):\n",
      " #   Column     Non-Null Count   Dtype\n",
      "---  ------     --------------   -----\n",
      " 0   userID     186479 non-null  int64\n",
      " 1   artistID   186479 non-null  int64\n",
      " 2   tagID      186479 non-null  int64\n",
      " 3   timestamp  186479 non-null  int64\n",
      "dtypes: int64(4)\n",
      "memory usage: 5.7 MB\n",
      "None \n",
      "\n",
      "Unique:\n",
      "userID        1892\n",
      "artistID     12523\n",
      "tagID         9749\n",
      "timestamp     3549\n",
      "dtype: int64\n",
      "\n",
      "No duplicates: True\n",
      "\n",
      "Friends \n",
      "\n",
      "Shape: (25434, 2)\n",
      "\n",
      "Info:\n",
      "<class 'pandas.core.frame.DataFrame'>\n",
      "RangeIndex: 25434 entries, 0 to 25433\n",
      "Data columns (total 2 columns):\n",
      " #   Column    Non-Null Count  Dtype\n",
      "---  ------    --------------  -----\n",
      " 0   userID    25434 non-null  int64\n",
      " 1   friendID  25434 non-null  int64\n",
      "dtypes: int64(2)\n",
      "memory usage: 397.5 KB\n",
      "None \n",
      "\n",
      "Unique:\n",
      "userID      1892\n",
      "friendID    1892\n",
      "dtype: int64\n",
      "\n",
      "No duplicates: True\n",
      "\n"
     ]
    }
   ],
   "source": [
    "df_list = [plays, artists, tags, uta, utat, friends]\n",
    "df_name = ['Plays',\n",
    "           'Artists',\n",
    "           'Tags',\n",
    "           'User Tagged Artists (Date)',\n",
    "           'User Tagged Artists (Timestamp)',\n",
    "           'Friends']\n",
    "\n",
    "print_info(df_list, df_name)"
   ]
  },
  {
   "cell_type": "markdown",
   "id": "125d27b1",
   "metadata": {},
   "source": [
    "#### As previously mentioned, out data contains 17,632 artists and 1,892 users."
   ]
  },
  {
   "cell_type": "markdown",
   "id": "7197dd0c",
   "metadata": {},
   "source": [
    "## Exploratory Data Analysis (EDA)"
   ]
  },
  {
   "cell_type": "markdown",
   "id": "386f6e1d",
   "metadata": {},
   "source": [
    "Having both artist IDs and names, along with user interactions and play counts, consolidated within a single file, our task is now to combine our two main data files into a singular cohesive dataset:"
   ]
  },
  {
   "cell_type": "code",
   "execution_count": 105,
   "id": "f987b0fc",
   "metadata": {},
   "outputs": [
    {
     "data": {
      "text/html": [
       "<div>\n",
       "<style scoped>\n",
       "    .dataframe tbody tr th:only-of-type {\n",
       "        vertical-align: middle;\n",
       "    }\n",
       "\n",
       "    .dataframe tbody tr th {\n",
       "        vertical-align: top;\n",
       "    }\n",
       "\n",
       "    .dataframe thead th {\n",
       "        text-align: right;\n",
       "    }\n",
       "</style>\n",
       "<table border=\"1\" class=\"dataframe\">\n",
       "  <thead>\n",
       "    <tr style=\"text-align: right;\">\n",
       "      <th></th>\n",
       "      <th>id</th>\n",
       "      <th>name</th>\n",
       "      <th>userID</th>\n",
       "      <th>artistID</th>\n",
       "      <th>userArtistPlays</th>\n",
       "    </tr>\n",
       "  </thead>\n",
       "  <tbody>\n",
       "    <tr>\n",
       "      <th>0</th>\n",
       "      <td>1</td>\n",
       "      <td>MALICE MIZER</td>\n",
       "      <td>34</td>\n",
       "      <td>1</td>\n",
       "      <td>212</td>\n",
       "    </tr>\n",
       "    <tr>\n",
       "      <th>1</th>\n",
       "      <td>1</td>\n",
       "      <td>MALICE MIZER</td>\n",
       "      <td>274</td>\n",
       "      <td>1</td>\n",
       "      <td>483</td>\n",
       "    </tr>\n",
       "    <tr>\n",
       "      <th>2</th>\n",
       "      <td>1</td>\n",
       "      <td>MALICE MIZER</td>\n",
       "      <td>785</td>\n",
       "      <td>1</td>\n",
       "      <td>76</td>\n",
       "    </tr>\n",
       "    <tr>\n",
       "      <th>3</th>\n",
       "      <td>2</td>\n",
       "      <td>Diary of Dreams</td>\n",
       "      <td>135</td>\n",
       "      <td>2</td>\n",
       "      <td>1021</td>\n",
       "    </tr>\n",
       "    <tr>\n",
       "      <th>4</th>\n",
       "      <td>2</td>\n",
       "      <td>Diary of Dreams</td>\n",
       "      <td>257</td>\n",
       "      <td>2</td>\n",
       "      <td>152</td>\n",
       "    </tr>\n",
       "  </tbody>\n",
       "</table>\n",
       "</div>"
      ],
      "text/plain": [
       "   id             name  userID  artistID  userArtistPlays\n",
       "0   1     MALICE MIZER      34         1              212\n",
       "1   1     MALICE MIZER     274         1              483\n",
       "2   1     MALICE MIZER     785         1               76\n",
       "3   2  Diary of Dreams     135         2             1021\n",
       "4   2  Diary of Dreams     257         2              152"
      ]
     },
     "execution_count": 105,
     "metadata": {},
     "output_type": "execute_result"
    }
   ],
   "source": [
    "ap = pd.merge(artists, \n",
    "                plays, \n",
    "                how='inner',\n",
    "                left_on='id',\n",
    "                right_on='artistID')\n",
    "\n",
    "ap = ap.rename(columns={\"weight\":\"userArtistPlays\"})\n",
    "\n",
    "ap.head()"
   ]
  },
  {
   "cell_type": "markdown",
   "id": "bf784445",
   "metadata": {},
   "source": [
    "Here we performed an inner merge between the 'artists' and 'plays' dataframes based on the 'id' column from the 'artists' dataframe and the 'artistID' column from the 'plays' dataframe. It then renames the 'weight' column in the merged dataframe as 'userArtistPlays'. Finally, it displays the first few rows of the merged dataframe. "
   ]
  },
  {
   "cell_type": "markdown",
   "id": "8a25695d",
   "metadata": {},
   "source": [
    "For each user-artist combination:\n",
    "\n",
    "1) User Artist Plays: This data represents the count of artist plays for a specific user-artist pairing.\n",
    "\n",
    "For each artist:\n",
    "\n",
    "1) Total Artist Plays: This indicates the collective play count of an individual artist across all users.\n",
    "2) Total Unique Users: This denotes the cumulative count of distinct users who have listened to a particular artist at least once.\n",
    "3) Average User Plays: Computed as the ratio of Total Artist Plays to Total Unique Users.\n",
    "\n",
    "For each user:\n",
    "\n",
    "1) Total User Plays: This aggregates the play counts of all artists for a given user.\n",
    "2) Total Unique Artists: This signifies the count of unique artists associated with a single user (the dataset apparently imposes a limit of 50 unique artists).\n",
    "\n",
    "\n",
    "In essence, we will be extracting these meaningful metrics to gain deeper insights from our dataset."
   ]
  },
  {
   "cell_type": "code",
   "execution_count": 106,
   "id": "35d8fe52",
   "metadata": {},
   "outputs": [],
   "source": [
    "artist_rank = (ap.groupby(['name']).agg({'userID':'count','userArtistPlays':'sum'}).\n",
    "    rename(columns={\"userID\":'totalUniqueUsers',\"userArtistPlays\":\"totalArtistPlays\"}).\n",
    "              sort_values(['totalArtistPlays'],ascending=False))\n",
    "artist_rank['avgUserPlays'] = artist_rank['totalArtistPlays']/artist_rank['totalUniqueUsers']\n",
    "user_rank = (ap.groupby(['userID']).agg({'name':'count','userArtistPlays':'sum'}).\n",
    "    rename(columns={\"name\":'totalUniqueArtists',\"userArtistPlays\":\"totalUserPlays\"}).\n",
    "            sort_values(['totalUserPlays'],ascending=False))"
   ]
  },
  {
   "cell_type": "markdown",
   "id": "62ac89d3",
   "metadata": {},
   "source": [
    "For the artist rankings (artist_rank), the code groups the merged dataframe 'ap' by artist names. It calculates the count of unique users ('totalUniqueUsers') who have interacted with each artist and the sum of their play counts ('totalArtistPlays'). It then sorts the results based on total artist plays in descending order. The 'avgUserPlays' column is calculated as the ratio of total artist plays to total unique users.\n",
    "\n",
    "For the user rankings (user_rank), the code groups the merged dataframe 'ap' by user IDs. It calculates the count of unique artists ('totalUniqueArtists') each user has interacted with and the sum of their play counts ('totalUserPlays'). It then sorts the results based on total user plays in descending order.\n",
    "\n",
    "These calculations provide insights into artist popularity and user engagement within the dataset."
   ]
  },
  {
   "cell_type": "code",
   "execution_count": 107,
   "id": "137ad8d6",
   "metadata": {},
   "outputs": [
    {
     "data": {
      "text/html": [
       "<div>\n",
       "<style scoped>\n",
       "    .dataframe tbody tr th:only-of-type {\n",
       "        vertical-align: middle;\n",
       "    }\n",
       "\n",
       "    .dataframe tbody tr th {\n",
       "        vertical-align: top;\n",
       "    }\n",
       "\n",
       "    .dataframe thead th {\n",
       "        text-align: right;\n",
       "    }\n",
       "</style>\n",
       "<table border=\"1\" class=\"dataframe\">\n",
       "  <thead>\n",
       "    <tr style=\"text-align: right;\">\n",
       "      <th></th>\n",
       "      <th>totalUniqueUsers</th>\n",
       "      <th>totalArtistPlays</th>\n",
       "      <th>avgUserPlays</th>\n",
       "    </tr>\n",
       "    <tr>\n",
       "      <th>name</th>\n",
       "      <th></th>\n",
       "      <th></th>\n",
       "      <th></th>\n",
       "    </tr>\n",
       "  </thead>\n",
       "  <tbody>\n",
       "    <tr>\n",
       "      <th>Britney Spears</th>\n",
       "      <td>522</td>\n",
       "      <td>2393140</td>\n",
       "      <td>4584.56</td>\n",
       "    </tr>\n",
       "    <tr>\n",
       "      <th>Depeche Mode</th>\n",
       "      <td>282</td>\n",
       "      <td>1301308</td>\n",
       "      <td>4614.57</td>\n",
       "    </tr>\n",
       "    <tr>\n",
       "      <th>Lady Gaga</th>\n",
       "      <td>611</td>\n",
       "      <td>1291387</td>\n",
       "      <td>2113.56</td>\n",
       "    </tr>\n",
       "    <tr>\n",
       "      <th>Christina Aguilera</th>\n",
       "      <td>407</td>\n",
       "      <td>1058405</td>\n",
       "      <td>2600.50</td>\n",
       "    </tr>\n",
       "    <tr>\n",
       "      <th>Paramore</th>\n",
       "      <td>399</td>\n",
       "      <td>963449</td>\n",
       "      <td>2414.66</td>\n",
       "    </tr>\n",
       "  </tbody>\n",
       "</table>\n",
       "</div>"
      ],
      "text/plain": [
       "                    totalUniqueUsers  totalArtistPlays  avgUserPlays\n",
       "name                                                                \n",
       "Britney Spears                   522           2393140       4584.56\n",
       "Depeche Mode                     282           1301308       4614.57\n",
       "Lady Gaga                        611           1291387       2113.56\n",
       "Christina Aguilera               407           1058405       2600.50\n",
       "Paramore                         399            963449       2414.66"
      ]
     },
     "execution_count": 107,
     "metadata": {},
     "output_type": "execute_result"
    }
   ],
   "source": [
    "# Britney Spears is the most played at 2.4 million plays\n",
    "artist_rank.head()"
   ]
  },
  {
   "cell_type": "markdown",
   "id": "982faea9",
   "metadata": {},
   "source": [
    "According to the figures in the \"Total Artist Plays\" column, the average number of plays per artist is nearly 4,000, while the maximum count reaches 2.4 million, exemplified by Britney Spears."
   ]
  },
  {
   "cell_type": "code",
   "execution_count": 108,
   "id": "0da895d8",
   "metadata": {},
   "outputs": [
    {
     "data": {
      "text/html": [
       "<div>\n",
       "<style scoped>\n",
       "    .dataframe tbody tr th:only-of-type {\n",
       "        vertical-align: middle;\n",
       "    }\n",
       "\n",
       "    .dataframe tbody tr th {\n",
       "        vertical-align: top;\n",
       "    }\n",
       "\n",
       "    .dataframe thead th {\n",
       "        text-align: right;\n",
       "    }\n",
       "</style>\n",
       "<table border=\"1\" class=\"dataframe\">\n",
       "  <thead>\n",
       "    <tr style=\"text-align: right;\">\n",
       "      <th></th>\n",
       "      <th>totalUniqueUsers</th>\n",
       "      <th>totalArtistPlays</th>\n",
       "      <th>avgUserPlays</th>\n",
       "    </tr>\n",
       "  </thead>\n",
       "  <tbody>\n",
       "    <tr>\n",
       "      <th>count</th>\n",
       "      <td>17632.00</td>\n",
       "      <td>17632.00</td>\n",
       "      <td>17632.00</td>\n",
       "    </tr>\n",
       "    <tr>\n",
       "      <th>mean</th>\n",
       "      <td>5.27</td>\n",
       "      <td>3923.77</td>\n",
       "      <td>423.78</td>\n",
       "    </tr>\n",
       "    <tr>\n",
       "      <th>std</th>\n",
       "      <td>20.62</td>\n",
       "      <td>34099.34</td>\n",
       "      <td>785.38</td>\n",
       "    </tr>\n",
       "    <tr>\n",
       "      <th>min</th>\n",
       "      <td>1.00</td>\n",
       "      <td>1.00</td>\n",
       "      <td>1.00</td>\n",
       "    </tr>\n",
       "    <tr>\n",
       "      <th>25%</th>\n",
       "      <td>1.00</td>\n",
       "      <td>113.00</td>\n",
       "      <td>97.00</td>\n",
       "    </tr>\n",
       "    <tr>\n",
       "      <th>50%</th>\n",
       "      <td>1.00</td>\n",
       "      <td>350.00</td>\n",
       "      <td>246.00</td>\n",
       "    </tr>\n",
       "    <tr>\n",
       "      <th>75%</th>\n",
       "      <td>3.00</td>\n",
       "      <td>1234.25</td>\n",
       "      <td>496.88</td>\n",
       "    </tr>\n",
       "    <tr>\n",
       "      <th>max</th>\n",
       "      <td>611.00</td>\n",
       "      <td>2393140.00</td>\n",
       "      <td>35323.00</td>\n",
       "    </tr>\n",
       "  </tbody>\n",
       "</table>\n",
       "</div>"
      ],
      "text/plain": [
       "       totalUniqueUsers  totalArtistPlays  avgUserPlays\n",
       "count          17632.00          17632.00      17632.00\n",
       "mean               5.27           3923.77        423.78\n",
       "std               20.62          34099.34        785.38\n",
       "min                1.00              1.00          1.00\n",
       "25%                1.00            113.00         97.00\n",
       "50%                1.00            350.00        246.00\n",
       "75%                3.00           1234.25        496.88\n",
       "max              611.00        2393140.00      35323.00"
      ]
     },
     "execution_count": 108,
     "metadata": {},
     "output_type": "execute_result"
    }
   ],
   "source": [
    "artist_rank.describe()"
   ]
  },
  {
   "cell_type": "markdown",
   "id": "a1be1d18",
   "metadata": {},
   "source": [
    "Presented here are the leading users based on their cumulative play counts. Additionally, it's evident that there is a limit of 50 artists per user, seemingly imposed as a parameter during the initial dataset query."
   ]
  },
  {
   "cell_type": "code",
   "execution_count": 109,
   "id": "19c6111b",
   "metadata": {},
   "outputs": [
    {
     "data": {
      "text/html": [
       "<div>\n",
       "<style scoped>\n",
       "    .dataframe tbody tr th:only-of-type {\n",
       "        vertical-align: middle;\n",
       "    }\n",
       "\n",
       "    .dataframe tbody tr th {\n",
       "        vertical-align: top;\n",
       "    }\n",
       "\n",
       "    .dataframe thead th {\n",
       "        text-align: right;\n",
       "    }\n",
       "</style>\n",
       "<table border=\"1\" class=\"dataframe\">\n",
       "  <thead>\n",
       "    <tr style=\"text-align: right;\">\n",
       "      <th></th>\n",
       "      <th>totalUniqueArtists</th>\n",
       "      <th>totalUserPlays</th>\n",
       "    </tr>\n",
       "    <tr>\n",
       "      <th>userID</th>\n",
       "      <th></th>\n",
       "      <th></th>\n",
       "    </tr>\n",
       "  </thead>\n",
       "  <tbody>\n",
       "    <tr>\n",
       "      <th>757</th>\n",
       "      <td>50</td>\n",
       "      <td>480039</td>\n",
       "    </tr>\n",
       "    <tr>\n",
       "      <th>2000</th>\n",
       "      <td>50</td>\n",
       "      <td>468409</td>\n",
       "    </tr>\n",
       "    <tr>\n",
       "      <th>1418</th>\n",
       "      <td>50</td>\n",
       "      <td>416349</td>\n",
       "    </tr>\n",
       "    <tr>\n",
       "      <th>1642</th>\n",
       "      <td>50</td>\n",
       "      <td>388251</td>\n",
       "    </tr>\n",
       "    <tr>\n",
       "      <th>1094</th>\n",
       "      <td>50</td>\n",
       "      <td>379125</td>\n",
       "    </tr>\n",
       "  </tbody>\n",
       "</table>\n",
       "</div>"
      ],
      "text/plain": [
       "        totalUniqueArtists  totalUserPlays\n",
       "userID                                    \n",
       "757                     50          480039\n",
       "2000                    50          468409\n",
       "1418                    50          416349\n",
       "1642                    50          388251\n",
       "1094                    50          379125"
      ]
     },
     "execution_count": 109,
     "metadata": {},
     "output_type": "execute_result"
    }
   ],
   "source": [
    "user_rank.head()"
   ]
  },
  {
   "cell_type": "markdown",
   "id": "ea7568de",
   "metadata": {},
   "source": [
    "To streamline the process, we will combine our artist and user data into a unified table. Consequently, we must exercise caution when extracting insights from the merged columns."
   ]
  },
  {
   "cell_type": "code",
   "execution_count": 110,
   "id": "c20d147f",
   "metadata": {},
   "outputs": [],
   "source": [
    "ap2 = ap.join(artist_rank,on='name',how='inner')\n",
    "ap3 = ap2.join(user_rank,on='userID',how='inner').sort_values(['userArtistPlays'],ascending=False)\n",
    "\n",
    "# confirm no duplicated rows\n",
    "assert ap3[ap3.duplicated(['userID','name'])].empty"
   ]
  },
  {
   "cell_type": "markdown",
   "id": "9feb4410",
   "metadata": {},
   "source": [
    "This combines the artist and user rankings with the 'ap' dataframe, sorts the result based on user-artist play counts, and then asserts that there are no duplicate rows in terms of user and artist combinations."
   ]
  },
  {
   "cell_type": "code",
   "execution_count": 111,
   "id": "52f955ea",
   "metadata": {},
   "outputs": [
    {
     "data": {
      "text/html": [
       "<div>\n",
       "<style scoped>\n",
       "    .dataframe tbody tr th:only-of-type {\n",
       "        vertical-align: middle;\n",
       "    }\n",
       "\n",
       "    .dataframe tbody tr th {\n",
       "        vertical-align: top;\n",
       "    }\n",
       "\n",
       "    .dataframe thead th {\n",
       "        text-align: right;\n",
       "    }\n",
       "</style>\n",
       "<table border=\"1\" class=\"dataframe\">\n",
       "  <thead>\n",
       "    <tr style=\"text-align: right;\">\n",
       "      <th></th>\n",
       "      <th>id</th>\n",
       "      <th>name</th>\n",
       "      <th>userID</th>\n",
       "      <th>artistID</th>\n",
       "      <th>userArtistPlays</th>\n",
       "      <th>totalUniqueUsers</th>\n",
       "      <th>totalArtistPlays</th>\n",
       "      <th>avgUserPlays</th>\n",
       "      <th>totalUniqueArtists</th>\n",
       "      <th>totalUserPlays</th>\n",
       "    </tr>\n",
       "  </thead>\n",
       "  <tbody>\n",
       "    <tr>\n",
       "      <th>2800</th>\n",
       "      <td>72</td>\n",
       "      <td>Depeche Mode</td>\n",
       "      <td>1642</td>\n",
       "      <td>72</td>\n",
       "      <td>352698</td>\n",
       "      <td>282</td>\n",
       "      <td>1301308</td>\n",
       "      <td>4614.57</td>\n",
       "      <td>50</td>\n",
       "      <td>388251</td>\n",
       "    </tr>\n",
       "    <tr>\n",
       "      <th>35843</th>\n",
       "      <td>792</td>\n",
       "      <td>Thalía</td>\n",
       "      <td>2071</td>\n",
       "      <td>792</td>\n",
       "      <td>324663</td>\n",
       "      <td>26</td>\n",
       "      <td>350035</td>\n",
       "      <td>13462.88</td>\n",
       "      <td>50</td>\n",
       "      <td>338400</td>\n",
       "    </tr>\n",
       "    <tr>\n",
       "      <th>27302</th>\n",
       "      <td>511</td>\n",
       "      <td>U2</td>\n",
       "      <td>1094</td>\n",
       "      <td>511</td>\n",
       "      <td>320725</td>\n",
       "      <td>185</td>\n",
       "      <td>493024</td>\n",
       "      <td>2664.99</td>\n",
       "      <td>50</td>\n",
       "      <td>379125</td>\n",
       "    </tr>\n",
       "    <tr>\n",
       "      <th>8152</th>\n",
       "      <td>203</td>\n",
       "      <td>Blur</td>\n",
       "      <td>1905</td>\n",
       "      <td>203</td>\n",
       "      <td>257978</td>\n",
       "      <td>114</td>\n",
       "      <td>318221</td>\n",
       "      <td>2791.41</td>\n",
       "      <td>50</td>\n",
       "      <td>276295</td>\n",
       "    </tr>\n",
       "    <tr>\n",
       "      <th>26670</th>\n",
       "      <td>498</td>\n",
       "      <td>Paramore</td>\n",
       "      <td>1664</td>\n",
       "      <td>498</td>\n",
       "      <td>227829</td>\n",
       "      <td>399</td>\n",
       "      <td>963449</td>\n",
       "      <td>2414.66</td>\n",
       "      <td>50</td>\n",
       "      <td>251560</td>\n",
       "    </tr>\n",
       "  </tbody>\n",
       "</table>\n",
       "</div>"
      ],
      "text/plain": [
       "        id          name  userID  artistID  userArtistPlays  totalUniqueUsers  \\\n",
       "2800    72  Depeche Mode    1642        72           352698               282   \n",
       "35843  792        Thalía    2071       792           324663                26   \n",
       "27302  511            U2    1094       511           320725               185   \n",
       "8152   203          Blur    1905       203           257978               114   \n",
       "26670  498      Paramore    1664       498           227829               399   \n",
       "\n",
       "       totalArtistPlays  avgUserPlays  totalUniqueArtists  totalUserPlays  \n",
       "2800            1301308       4614.57                  50          388251  \n",
       "35843            350035      13462.88                  50          338400  \n",
       "27302            493024       2664.99                  50          379125  \n",
       "8152             318221       2791.41                  50          276295  \n",
       "26670            963449       2414.66                  50          251560  "
      ]
     },
     "execution_count": 111,
     "metadata": {},
     "output_type": "execute_result"
    }
   ],
   "source": [
    "ap3.head()"
   ]
  },
  {
   "cell_type": "code",
   "execution_count": 112,
   "id": "09ce09c0",
   "metadata": {},
   "outputs": [
    {
     "name": "stdout",
     "output_type": "stream",
     "text": [
      "***Artist Plays*** \n",
      "\n",
      "Shape: (92834, 2)\n",
      "\n",
      "Info:\n",
      "<class 'pandas.core.frame.DataFrame'>\n",
      "Int64Index: 92834 entries, 2800 to 88660\n",
      "Data columns (total 2 columns):\n",
      " #   Column    Non-Null Count  Dtype\n",
      "---  ------    --------------  -----\n",
      " 0   userID    92834 non-null  int64\n",
      " 1   artistID  92834 non-null  int64\n",
      "dtypes: int64(2)\n",
      "memory usage: 2.1 MB\n",
      "None \n",
      "\n",
      "Unique:\n",
      "userID       1892\n",
      "artistID    17632\n",
      "dtype: int64\n",
      "\n",
      "No duplicates: True\n",
      "\n"
     ]
    }
   ],
   "source": [
    "print_info([ap3[['userID','artistID']]],['***Artist Plays***'])"
   ]
  },
  {
   "cell_type": "markdown",
   "id": "095f8902",
   "metadata": {},
   "source": [
    "Noteworthy statistics encompass:\n",
    "\n",
    "17,632 distinct artist IDs and names\n",
    "\n",
    "1,892 unique user IDs\n",
    "\n",
    "A cumulative total of 92,834 data points, representing artist-user pairs."
   ]
  },
  {
   "cell_type": "code",
   "execution_count": 113,
   "id": "b0c7f16e",
   "metadata": {},
   "outputs": [
    {
     "name": "stdout",
     "output_type": "stream",
     "text": [
      "69,183,975\n"
     ]
    }
   ],
   "source": [
    "# 69 million total plays\n",
    "print(\"{:,}\".format(ap3['userArtistPlays'].sum()))"
   ]
  },
  {
   "cell_type": "markdown",
   "id": "2305f114",
   "metadata": {},
   "source": [
    "### Data Insight"
   ]
  },
  {
   "cell_type": "code",
   "execution_count": 114,
   "id": "74b4a66d",
   "metadata": {},
   "outputs": [
    {
     "data": {
      "text/html": [
       "<div>\n",
       "<style scoped>\n",
       "    .dataframe tbody tr th:only-of-type {\n",
       "        vertical-align: middle;\n",
       "    }\n",
       "\n",
       "    .dataframe tbody tr th {\n",
       "        vertical-align: top;\n",
       "    }\n",
       "\n",
       "    .dataframe thead th {\n",
       "        text-align: right;\n",
       "    }\n",
       "</style>\n",
       "<table border=\"1\" class=\"dataframe\">\n",
       "  <thead>\n",
       "    <tr style=\"text-align: right;\">\n",
       "      <th></th>\n",
       "      <th>totalUniqueUsers</th>\n",
       "      <th>totalArtistPlays</th>\n",
       "      <th>avgUserPlays</th>\n",
       "    </tr>\n",
       "    <tr>\n",
       "      <th>name</th>\n",
       "      <th></th>\n",
       "      <th></th>\n",
       "      <th></th>\n",
       "    </tr>\n",
       "  </thead>\n",
       "  <tbody>\n",
       "    <tr>\n",
       "      <th>Lady Gaga</th>\n",
       "      <td>611</td>\n",
       "      <td>1291387</td>\n",
       "      <td>2113.56</td>\n",
       "    </tr>\n",
       "    <tr>\n",
       "      <th>Britney Spears</th>\n",
       "      <td>522</td>\n",
       "      <td>2393140</td>\n",
       "      <td>4584.56</td>\n",
       "    </tr>\n",
       "    <tr>\n",
       "      <th>Rihanna</th>\n",
       "      <td>484</td>\n",
       "      <td>905423</td>\n",
       "      <td>1870.71</td>\n",
       "    </tr>\n",
       "    <tr>\n",
       "      <th>The Beatles</th>\n",
       "      <td>480</td>\n",
       "      <td>662116</td>\n",
       "      <td>1379.41</td>\n",
       "    </tr>\n",
       "    <tr>\n",
       "      <th>Katy Perry</th>\n",
       "      <td>473</td>\n",
       "      <td>532545</td>\n",
       "      <td>1125.89</td>\n",
       "    </tr>\n",
       "  </tbody>\n",
       "</table>\n",
       "</div>"
      ],
      "text/plain": [
       "                totalUniqueUsers  totalArtistPlays  avgUserPlays\n",
       "name                                                            \n",
       "Lady Gaga                    611           1291387       2113.56\n",
       "Britney Spears               522           2393140       4584.56\n",
       "Rihanna                      484            905423       1870.71\n",
       "The Beatles                  480            662116       1379.41\n",
       "Katy Perry                   473            532545       1125.89"
      ]
     },
     "execution_count": 114,
     "metadata": {},
     "output_type": "execute_result"
    }
   ],
   "source": [
    "artist_rank.sort_values(['totalUniqueUsers'],ascending=False).head()"
   ]
  },
  {
   "cell_type": "markdown",
   "id": "ed15cc5f",
   "metadata": {},
   "source": [
    "Among the complete count of 1,892 users contained within this dataset, 611 individuals engaged with Lady Gaga's content at least once. This constitutes 32.3% of the entire user population."
   ]
  },
  {
   "cell_type": "code",
   "execution_count": 115,
   "id": "037b29fd",
   "metadata": {},
   "outputs": [
    {
     "data": {
      "text/plain": [
       "611"
      ]
     },
     "execution_count": 115,
     "metadata": {},
     "output_type": "execute_result"
    }
   ],
   "source": [
    "len(ap3['userArtistPlays'][ap3['name']=='Lady Gaga'])"
   ]
  },
  {
   "cell_type": "code",
   "execution_count": 116,
   "id": "399b4781",
   "metadata": {},
   "outputs": [
    {
     "data": {
      "text/html": [
       "<div>\n",
       "<style scoped>\n",
       "    .dataframe tbody tr th:only-of-type {\n",
       "        vertical-align: middle;\n",
       "    }\n",
       "\n",
       "    .dataframe tbody tr th {\n",
       "        vertical-align: top;\n",
       "    }\n",
       "\n",
       "    .dataframe thead th {\n",
       "        text-align: right;\n",
       "    }\n",
       "</style>\n",
       "<table border=\"1\" class=\"dataframe\">\n",
       "  <thead>\n",
       "    <tr style=\"text-align: right;\">\n",
       "      <th></th>\n",
       "      <th>totalUniqueUsers</th>\n",
       "      <th>totalArtistPlays</th>\n",
       "      <th>avgUserPlays</th>\n",
       "    </tr>\n",
       "    <tr>\n",
       "      <th>name</th>\n",
       "      <th></th>\n",
       "      <th></th>\n",
       "      <th></th>\n",
       "    </tr>\n",
       "  </thead>\n",
       "  <tbody>\n",
       "    <tr>\n",
       "      <th>Viking Quest</th>\n",
       "      <td>1</td>\n",
       "      <td>35323</td>\n",
       "      <td>35323.00</td>\n",
       "    </tr>\n",
       "    <tr>\n",
       "      <th>Tyler Adam</th>\n",
       "      <td>1</td>\n",
       "      <td>30614</td>\n",
       "      <td>30614.00</td>\n",
       "    </tr>\n",
       "    <tr>\n",
       "      <th>Rytmus</th>\n",
       "      <td>1</td>\n",
       "      <td>23462</td>\n",
       "      <td>23462.00</td>\n",
       "    </tr>\n",
       "    <tr>\n",
       "      <th>Johnny Hallyday</th>\n",
       "      <td>2</td>\n",
       "      <td>32995</td>\n",
       "      <td>16497.50</td>\n",
       "    </tr>\n",
       "    <tr>\n",
       "      <th>Dicky Dixon</th>\n",
       "      <td>1</td>\n",
       "      <td>15345</td>\n",
       "      <td>15345.00</td>\n",
       "    </tr>\n",
       "  </tbody>\n",
       "</table>\n",
       "</div>"
      ],
      "text/plain": [
       "                 totalUniqueUsers  totalArtistPlays  avgUserPlays\n",
       "name                                                             \n",
       "Viking Quest                    1             35323      35323.00\n",
       "Tyler Adam                      1             30614      30614.00\n",
       "Rytmus                          1             23462      23462.00\n",
       "Johnny Hallyday                 2             32995      16497.50\n",
       "Dicky Dixon                     1             15345      15345.00"
      ]
     },
     "execution_count": 116,
     "metadata": {},
     "output_type": "execute_result"
    }
   ],
   "source": [
    "artist_rank.sort_values(['avgUserPlays'],ascending=False).head()"
   ]
  },
  {
   "cell_type": "markdown",
   "id": "dc4750d8",
   "metadata": {},
   "source": [
    "\n",
    "Now, let's examine what we can term as \"user loyalty,\" quantified by the average frequency at which a user listens to a particular artist. Once more, this is calculated as the ratio of total artist plays to total unique users.\n",
    "\n",
    "A case in point is \"Viking Quest,\" which has a solitary unique user responsible for 35,000 plays. Consequently, on average, this artist achieves the highest number of plays per user, making it the frontrunner in terms of user engagement."
   ]
  },
  {
   "cell_type": "code",
   "execution_count": 117,
   "id": "1e595e39",
   "metadata": {},
   "outputs": [
    {
     "data": {
      "text/html": [
       "<div>\n",
       "<style scoped>\n",
       "    .dataframe tbody tr th:only-of-type {\n",
       "        vertical-align: middle;\n",
       "    }\n",
       "\n",
       "    .dataframe tbody tr th {\n",
       "        vertical-align: top;\n",
       "    }\n",
       "\n",
       "    .dataframe thead th {\n",
       "        text-align: right;\n",
       "    }\n",
       "</style>\n",
       "<table border=\"1\" class=\"dataframe\">\n",
       "  <thead>\n",
       "    <tr style=\"text-align: right;\">\n",
       "      <th></th>\n",
       "      <th>id</th>\n",
       "      <th>name</th>\n",
       "      <th>userID</th>\n",
       "      <th>artistID</th>\n",
       "      <th>userArtistPlays</th>\n",
       "      <th>totalUniqueUsers</th>\n",
       "      <th>totalArtistPlays</th>\n",
       "      <th>avgUserPlays</th>\n",
       "      <th>totalUniqueArtists</th>\n",
       "      <th>totalUserPlays</th>\n",
       "    </tr>\n",
       "  </thead>\n",
       "  <tbody>\n",
       "    <tr>\n",
       "      <th>80046</th>\n",
       "      <td>8388</td>\n",
       "      <td>Viking Quest</td>\n",
       "      <td>596</td>\n",
       "      <td>8388</td>\n",
       "      <td>35323</td>\n",
       "      <td>1</td>\n",
       "      <td>35323</td>\n",
       "      <td>35323.00</td>\n",
       "      <td>50</td>\n",
       "      <td>101469</td>\n",
       "    </tr>\n",
       "  </tbody>\n",
       "</table>\n",
       "</div>"
      ],
      "text/plain": [
       "         id          name  userID  artistID  userArtistPlays  \\\n",
       "80046  8388  Viking Quest     596      8388            35323   \n",
       "\n",
       "       totalUniqueUsers  totalArtistPlays  avgUserPlays  totalUniqueArtists  \\\n",
       "80046                 1             35323      35323.00                  50   \n",
       "\n",
       "       totalUserPlays  \n",
       "80046          101469  "
      ]
     },
     "execution_count": 117,
     "metadata": {},
     "output_type": "execute_result"
    }
   ],
   "source": [
    "ap3[ap3['name']=='Viking Quest']"
   ]
  },
  {
   "cell_type": "markdown",
   "id": "4b930e94",
   "metadata": {},
   "source": [
    "## Utilizing K-Nearest Neighbors for Item Similarity in Scikit Learn\n",
    "\n",
    "In our initial attempt at creating a fundamental collaborative recommender, our approach involves constructing a sparse matrix that compares artist plays (represented by rows) across users (represented by columns). This matrix will then undergo processing through a latent mapping algorithm known as K-nearest neighbors. The goal here is to establish cosine similarity among the relationships between users and artists. This process assists us in identifying artists that are most similar, implying they are positioned closely together within this latent mapping. For instance, a user's engagement with the Beatles might result in a relatively small cosine distance, indicating a higher likelihood of engagement with the Rolling Stones rather than a more distant artist like Snoop Dogg."
   ]
  },
  {
   "cell_type": "markdown",
   "id": "445fad53",
   "metadata": {},
   "source": [
    "\n",
    "### Creating the Sparse Matrix\n",
    "\n",
    "In this step, we arrange the data within a sparse matrix format, where artist names correspond to rows and users to columns. This matrix comprehensively encapsulates the interactions between artists and users, with each cell containing the count of plays."
   ]
  },
  {
   "cell_type": "code",
   "execution_count": 118,
   "id": "5f7350ba",
   "metadata": {},
   "outputs": [],
   "source": [
    "# fit data into a sparse matrix of artist name (row) vs user (column)\n",
    "# in terms of number of plays by artist/user\n",
    "def data_to_sparse(data,index,columns,values):\n",
    "    pivot = data.pivot(index=index,columns=columns,values=values).fillna(0)\n",
    "    sparse = csr_matrix(pivot.values)\n",
    "    print(sparse.shape)\n",
    "    return pivot,sparse\n",
    "\n",
    "# User K Nearest Neighbors to determine cosine distance amongst artists\n",
    "def fit_knn(sparse):\n",
    "    knn = NearestNeighbors(metric='cosine')\n",
    "    knn.fit(sparse)\n",
    "    print(knn)\n",
    "    return knn"
   ]
  },
  {
   "cell_type": "markdown",
   "id": "c445ecb1",
   "metadata": {},
   "source": [
    "There are two functions. The first function converts data into a sparse matrix, and the second function fits K Nearest Neighbors to determine cosine distance among artists. Here are the functions and their explanations:\n",
    "\n",
    "1) data_to_sparse(data, index, columns, values): This function transforms data into a sparse matrix format. It takes the following arguments:\n",
    "\n",
    "        data: The data to be transformed.\n",
    "        index: The column to be used as the index of the resulting pivot table.\n",
    "        columns: The column to be used as the columns of the resulting pivot table.\n",
    "        values: The column containing the values for the resulting pivot table.\n",
    "\n",
    "The function performs a pivot operation on the data using the provided index, columns, and values. It fills missing values with zeros and converts the resulting pivot table into a sparse matrix using the csr_matrix function from scipy.sparse. The shape of the sparse matrix is printed, and both the pivot table and the sparse matrix are returned.\n",
    "\n",
    "2) fit_knn(sparse): This function fits K Nearest Neighbors to determine cosine distance among artists. It takes the following argument:\n",
    "\n",
    "        sparse: The sparse matrix representing artist-play relationships.\n",
    "\n",
    "The function creates a NearestNeighbors model with cosine distance metric and fits it with the provided sparse matrix. The NearestNeighbors model is printed, and the fitted model is returned."
   ]
  },
  {
   "cell_type": "code",
   "execution_count": 119,
   "id": "00e03a42",
   "metadata": {},
   "outputs": [
    {
     "name": "stdout",
     "output_type": "stream",
     "text": [
      "(17632, 1892)\n"
     ]
    }
   ],
   "source": [
    "pivot_ap3,sparse_ap3 = data_to_sparse(ap3,index='name',columns='userID',values='userArtistPlays')\n"
   ]
  },
  {
   "cell_type": "markdown",
   "id": "6c6b75b9",
   "metadata": {},
   "source": [
    "We used the data_to_sparse function to transform the ap3 dataframe into a pivot table and then into a sparse matrix. The pivot table and sparse matrix are stored in pivot_ap3 and sparse_ap3, respectively."
   ]
  },
  {
   "cell_type": "code",
   "execution_count": 120,
   "id": "62b6a200",
   "metadata": {},
   "outputs": [
    {
     "name": "stdout",
     "output_type": "stream",
     "text": [
      "NearestNeighbors(metric='cosine')\n"
     ]
    }
   ],
   "source": [
    "knn = fit_knn(sparse_ap3)"
   ]
  },
  {
   "cell_type": "markdown",
   "id": "c8c4ff59",
   "metadata": {},
   "source": [
    "This code call creates a K Nearest Neighbors model with a cosine distance metric and fits it using the provided sparse matrix sparse_ap3. The fitted model is then stored in the variable knn for future use."
   ]
  },
  {
   "cell_type": "code",
   "execution_count": 121,
   "id": "329933ce",
   "metadata": {},
   "outputs": [
    {
     "data": {
      "text/html": [
       "<div>\n",
       "<style scoped>\n",
       "    .dataframe tbody tr th:only-of-type {\n",
       "        vertical-align: middle;\n",
       "    }\n",
       "\n",
       "    .dataframe tbody tr th {\n",
       "        vertical-align: top;\n",
       "    }\n",
       "\n",
       "    .dataframe thead th {\n",
       "        text-align: right;\n",
       "    }\n",
       "</style>\n",
       "<table border=\"1\" class=\"dataframe\">\n",
       "  <thead>\n",
       "    <tr style=\"text-align: right;\">\n",
       "      <th>userID</th>\n",
       "      <th>2</th>\n",
       "      <th>3</th>\n",
       "      <th>4</th>\n",
       "      <th>5</th>\n",
       "      <th>6</th>\n",
       "      <th>7</th>\n",
       "      <th>8</th>\n",
       "      <th>9</th>\n",
       "      <th>10</th>\n",
       "      <th>11</th>\n",
       "      <th>...</th>\n",
       "      <th>2090</th>\n",
       "      <th>2091</th>\n",
       "      <th>2092</th>\n",
       "      <th>2093</th>\n",
       "      <th>2094</th>\n",
       "      <th>2095</th>\n",
       "      <th>2096</th>\n",
       "      <th>2097</th>\n",
       "      <th>2099</th>\n",
       "      <th>2100</th>\n",
       "    </tr>\n",
       "    <tr>\n",
       "      <th>name</th>\n",
       "      <th></th>\n",
       "      <th></th>\n",
       "      <th></th>\n",
       "      <th></th>\n",
       "      <th></th>\n",
       "      <th></th>\n",
       "      <th></th>\n",
       "      <th></th>\n",
       "      <th></th>\n",
       "      <th></th>\n",
       "      <th></th>\n",
       "      <th></th>\n",
       "      <th></th>\n",
       "      <th></th>\n",
       "      <th></th>\n",
       "      <th></th>\n",
       "      <th></th>\n",
       "      <th></th>\n",
       "      <th></th>\n",
       "      <th></th>\n",
       "      <th></th>\n",
       "    </tr>\n",
       "  </thead>\n",
       "  <tbody>\n",
       "    <tr>\n",
       "      <th>!!!</th>\n",
       "      <td>0.00</td>\n",
       "      <td>0.00</td>\n",
       "      <td>0.00</td>\n",
       "      <td>0.00</td>\n",
       "      <td>0.00</td>\n",
       "      <td>0.00</td>\n",
       "      <td>0.00</td>\n",
       "      <td>0.00</td>\n",
       "      <td>0.00</td>\n",
       "      <td>0.00</td>\n",
       "      <td>...</td>\n",
       "      <td>0.00</td>\n",
       "      <td>0.00</td>\n",
       "      <td>0.00</td>\n",
       "      <td>0.00</td>\n",
       "      <td>0.00</td>\n",
       "      <td>0.00</td>\n",
       "      <td>0.00</td>\n",
       "      <td>0.00</td>\n",
       "      <td>0.00</td>\n",
       "      <td>0.00</td>\n",
       "    </tr>\n",
       "    <tr>\n",
       "      <th>!DISTAIN</th>\n",
       "      <td>0.00</td>\n",
       "      <td>0.00</td>\n",
       "      <td>0.00</td>\n",
       "      <td>0.00</td>\n",
       "      <td>0.00</td>\n",
       "      <td>0.00</td>\n",
       "      <td>0.00</td>\n",
       "      <td>0.00</td>\n",
       "      <td>0.00</td>\n",
       "      <td>0.00</td>\n",
       "      <td>...</td>\n",
       "      <td>0.00</td>\n",
       "      <td>0.00</td>\n",
       "      <td>0.00</td>\n",
       "      <td>0.00</td>\n",
       "      <td>0.00</td>\n",
       "      <td>0.00</td>\n",
       "      <td>0.00</td>\n",
       "      <td>0.00</td>\n",
       "      <td>0.00</td>\n",
       "      <td>0.00</td>\n",
       "    </tr>\n",
       "    <tr>\n",
       "      <th>!deladap</th>\n",
       "      <td>0.00</td>\n",
       "      <td>0.00</td>\n",
       "      <td>0.00</td>\n",
       "      <td>0.00</td>\n",
       "      <td>0.00</td>\n",
       "      <td>0.00</td>\n",
       "      <td>0.00</td>\n",
       "      <td>0.00</td>\n",
       "      <td>0.00</td>\n",
       "      <td>0.00</td>\n",
       "      <td>...</td>\n",
       "      <td>0.00</td>\n",
       "      <td>0.00</td>\n",
       "      <td>0.00</td>\n",
       "      <td>0.00</td>\n",
       "      <td>0.00</td>\n",
       "      <td>0.00</td>\n",
       "      <td>0.00</td>\n",
       "      <td>0.00</td>\n",
       "      <td>0.00</td>\n",
       "      <td>0.00</td>\n",
       "    </tr>\n",
       "    <tr>\n",
       "      <th>#####</th>\n",
       "      <td>0.00</td>\n",
       "      <td>0.00</td>\n",
       "      <td>0.00</td>\n",
       "      <td>0.00</td>\n",
       "      <td>0.00</td>\n",
       "      <td>0.00</td>\n",
       "      <td>0.00</td>\n",
       "      <td>0.00</td>\n",
       "      <td>0.00</td>\n",
       "      <td>0.00</td>\n",
       "      <td>...</td>\n",
       "      <td>0.00</td>\n",
       "      <td>0.00</td>\n",
       "      <td>0.00</td>\n",
       "      <td>0.00</td>\n",
       "      <td>0.00</td>\n",
       "      <td>0.00</td>\n",
       "      <td>0.00</td>\n",
       "      <td>0.00</td>\n",
       "      <td>0.00</td>\n",
       "      <td>0.00</td>\n",
       "    </tr>\n",
       "    <tr>\n",
       "      <th>#2 Orchestra</th>\n",
       "      <td>0.00</td>\n",
       "      <td>0.00</td>\n",
       "      <td>0.00</td>\n",
       "      <td>0.00</td>\n",
       "      <td>0.00</td>\n",
       "      <td>0.00</td>\n",
       "      <td>0.00</td>\n",
       "      <td>0.00</td>\n",
       "      <td>0.00</td>\n",
       "      <td>0.00</td>\n",
       "      <td>...</td>\n",
       "      <td>0.00</td>\n",
       "      <td>0.00</td>\n",
       "      <td>0.00</td>\n",
       "      <td>0.00</td>\n",
       "      <td>0.00</td>\n",
       "      <td>0.00</td>\n",
       "      <td>0.00</td>\n",
       "      <td>0.00</td>\n",
       "      <td>0.00</td>\n",
       "      <td>0.00</td>\n",
       "    </tr>\n",
       "  </tbody>\n",
       "</table>\n",
       "<p>5 rows × 1892 columns</p>\n",
       "</div>"
      ],
      "text/plain": [
       "userID        2     3     4     5     6     7     8     9     10    11    ...  \\\n",
       "name                                                                      ...   \n",
       "!!!           0.00  0.00  0.00  0.00  0.00  0.00  0.00  0.00  0.00  0.00  ...   \n",
       "!DISTAIN      0.00  0.00  0.00  0.00  0.00  0.00  0.00  0.00  0.00  0.00  ...   \n",
       "!deladap      0.00  0.00  0.00  0.00  0.00  0.00  0.00  0.00  0.00  0.00  ...   \n",
       "#####         0.00  0.00  0.00  0.00  0.00  0.00  0.00  0.00  0.00  0.00  ...   \n",
       "#2 Orchestra  0.00  0.00  0.00  0.00  0.00  0.00  0.00  0.00  0.00  0.00  ...   \n",
       "\n",
       "userID        2090  2091  2092  2093  2094  2095  2096  2097  2099  2100  \n",
       "name                                                                      \n",
       "!!!           0.00  0.00  0.00  0.00  0.00  0.00  0.00  0.00  0.00  0.00  \n",
       "!DISTAIN      0.00  0.00  0.00  0.00  0.00  0.00  0.00  0.00  0.00  0.00  \n",
       "!deladap      0.00  0.00  0.00  0.00  0.00  0.00  0.00  0.00  0.00  0.00  \n",
       "#####         0.00  0.00  0.00  0.00  0.00  0.00  0.00  0.00  0.00  0.00  \n",
       "#2 Orchestra  0.00  0.00  0.00  0.00  0.00  0.00  0.00  0.00  0.00  0.00  \n",
       "\n",
       "[5 rows x 1892 columns]"
      ]
     },
     "execution_count": 121,
     "metadata": {},
     "output_type": "execute_result"
    }
   ],
   "source": [
    "pivot_ap3.head()"
   ]
  },
  {
   "cell_type": "markdown",
   "id": "a54ffa04",
   "metadata": {},
   "source": [
    "Here, we investigate artist similarities by referencing their index numbers within the sparse matrix, indicated alongside their cosine distances enclosed in parentheses."
   ]
  },
  {
   "cell_type": "code",
   "execution_count": 122,
   "id": "6e5ea068",
   "metadata": {},
   "outputs": [],
   "source": [
    "def idx_recommend(data,idx,model,k):\n",
    "    distances, indices = (model.kneighbors(data.\n",
    "                                     iloc[idx,:].\n",
    "                                     values.reshape(1,-1),\n",
    "                                     n_neighbors=k+1))\n",
    "\n",
    "    for i in range(0,len(distances.flatten())):\n",
    "        if i == 0:\n",
    "            print(('Recommendations for {}:\\n'.\n",
    "                  format(data.index[idx])))\n",
    "        else:\n",
    "            print(('{}: {} ({:.3f})'.\n",
    "                  format(i,\n",
    "                         data.index[indices.flatten()[i]],\n",
    "                         distances.flatten()[i])))\n",
    "    return ''"
   ]
  },
  {
   "cell_type": "markdown",
   "id": "d69856cf",
   "metadata": {},
   "source": [
    "This function calculates the nearest neighbors of the specified index in the dataset using the K Nearest Neighbors model. It then prints a list of recommended items along with their corresponding distances. The first recommendation is the item itself, as it is the nearest neighbor with a distance of 0. The subsequent recommendations are based on increasing distance from the queried item."
   ]
  },
  {
   "cell_type": "code",
   "execution_count": 123,
   "id": "7a069a24",
   "metadata": {},
   "outputs": [
    {
     "name": "stdout",
     "output_type": "stream",
     "text": [
      "Recommendations for VINILOVERSUS:\n",
      "\n",
      "1: Don Davis (0.000)\n",
      "2: Taking Back Sunday (0.792)\n",
      "3: Ana Johnsson (0.856)\n",
      "4: Lacuna Coil (0.864)\n",
      "5: Breaking Benjamin (0.867)\n",
      "6: Trapt (0.868)\n"
     ]
    },
    {
     "data": {
      "text/plain": [
       "''"
      ]
     },
     "execution_count": 123,
     "metadata": {},
     "output_type": "execute_result"
    }
   ],
   "source": [
    "# we query a random artist\n",
    "query_index = seed.choice(pivot_ap3.shape[0])\n",
    "idx_recommend(pivot_ap3,query_index,knn,6)"
   ]
  },
  {
   "cell_type": "markdown",
   "id": "01bc80f8",
   "metadata": {},
   "source": [
    "The function will provide a list of recommendations for the randomly selected artist, including the artist itself and the most similar artists based on the K Nearest Neighbors model."
   ]
  },
  {
   "cell_type": "code",
   "execution_count": 124,
   "id": "7d365585",
   "metadata": {},
   "outputs": [
    {
     "name": "stdout",
     "output_type": "stream",
     "text": [
      "Recommendations for Britney Spears:\n",
      "\n",
      "1: Lindsay Lohan (0.504)\n",
      "2: RuPaul (0.567)\n",
      "3: Sarah Michelle Gellar (0.568)\n",
      "4: mclusky (0.568)\n",
      "5: Анастасия Приходько (0.568)\n",
      "6: †‡† (0.570)\n"
     ]
    },
    {
     "data": {
      "text/plain": [
       "''"
      ]
     },
     "execution_count": 124,
     "metadata": {},
     "output_type": "execute_result"
    }
   ],
   "source": [
    "# lookup index number for select artists\n",
    "query_index = pivot_ap3.index.get_loc('Britney Spears')\n",
    "idx_recommend(pivot_ap3,query_index,knn,6)"
   ]
  },
  {
   "cell_type": "markdown",
   "id": "88ae16ea",
   "metadata": {},
   "source": [
    "The function will provide recommendations for \"Britney Spears,\" including the artist itself and the most similar artists based on the K Nearest Neighbors model."
   ]
  },
  {
   "cell_type": "code",
   "execution_count": 125,
   "id": "a84e49eb",
   "metadata": {},
   "outputs": [
    {
     "name": "stdout",
     "output_type": "stream",
     "text": [
      "Recommendations for Oasis:\n",
      "\n",
      "1: Fuel (0.349)\n",
      "2: The Perishers (0.355)\n",
      "3: Vertical Horizon (0.386)\n",
      "4: The Wreckers (0.406)\n",
      "5: The Vines (0.471)\n",
      "6: Calogero (0.534)\n"
     ]
    },
    {
     "data": {
      "text/plain": [
       "''"
      ]
     },
     "execution_count": 125,
     "metadata": {},
     "output_type": "execute_result"
    }
   ],
   "source": [
    "query_index = pivot_ap3.index.get_loc('Oasis')\n",
    "idx_recommend(pivot_ap3,query_index,knn,6)"
   ]
  },
  {
   "cell_type": "markdown",
   "id": "0615f0d6",
   "metadata": {},
   "source": [
    "The function will provide recommendations for \"Oasis,\" including the artist itself and the most similar artists based on the K Nearest Neighbors model."
   ]
  },
  {
   "cell_type": "markdown",
   "id": "77c50b56",
   "metadata": {},
   "source": [
    "\n",
    "### Artist Query (Using Fuzzy Matching)\n",
    "\n",
    "In this section, we incorporate a direct artist lookup feature, employing fuzzy matching to accommodate partial name matches.\n",
    "\n",
    "These functions are designed to provide recommendations for artists, even if the query artist's name is not spelled exactly as in the dataset, by using fuzzy matching to find partial name matches."
   ]
  },
  {
   "cell_type": "code",
   "execution_count": 126,
   "id": "03916217",
   "metadata": {},
   "outputs": [],
   "source": [
    "# this will help us to locate partial matches of our query\n",
    "def fuzzy_match(query_subject,data):\n",
    "    ratio_tuples = []\n",
    "    \n",
    "    # each artist name is the subject in the data index\n",
    "    # each artist in the data is compared against our query subject to determine percentage match\n",
    "    # NOTE there may be ways to optimize this process by not looping through all artists\n",
    "    for subject in data.index:\n",
    "        ratio = fuzz.ratio(subject.lower(),query_subject.lower())\n",
    "        current_query_idx = data.index.tolist().index(subject)\n",
    "        ratio_tuples.append((subject, ratio,current_query_idx))\n",
    "        \n",
    "    # our findings are then sorted based on match rating, and top two are kept\n",
    "    ratio_tuples = sorted(ratio_tuples, key=lambda tup: tup[1],reverse=True)[:2]\n",
    "    \n",
    "    print('Top matches: {}\\n'.format([(x[0],x[1]) for x in ratio_tuples]))  \n",
    "    \n",
    "    match = ratio_tuples[0][0]\n",
    "    \n",
    "    return match, ratio_tuples\n",
    "\n",
    "def artist_recommend(query_artist, data, model,k):\n",
    "    \n",
    "    # determine artist matches using fuzzy matching\n",
    "    \n",
    "    match, ratio_tuples = fuzzy_match(query_artist,data)\n",
    "    \n",
    "    # look up artist by query index\n",
    "    idx_recommend(data, ratio_tuples[0][2],model,k)   \n",
    "    return ''"
   ]
  },
  {
   "cell_type": "markdown",
   "id": "573d63e9",
   "metadata": {},
   "source": [
    "Leveraging subjective insights from the domain of music, the recommendations provided below are generally within the expected range. However, our aim is to enhance the precision of these recommendations through further refinement. In the upcoming sections, we will explore methods to decrease any unwanted variability by incorporating exclusively popular artists and engaged users. Additionally, we will consider options such as grouping play counts or converting them into binary representations to streamline the data for improved accuracy."
   ]
  },
  {
   "cell_type": "code",
   "execution_count": 127,
   "id": "e1358199",
   "metadata": {},
   "outputs": [
    {
     "name": "stdout",
     "output_type": "stream",
     "text": [
      "Top matches: [('Britney Spears', 100), ('Britney Spears⊼', 97)]\n",
      "\n",
      "Recommendations for Britney Spears:\n",
      "\n",
      "1: Lindsay Lohan (0.504)\n",
      "2: RuPaul (0.567)\n",
      "3: Sarah Michelle Gellar (0.568)\n",
      "4: mclusky (0.568)\n",
      "5: Анастасия Приходько (0.568)\n",
      "6: †‡† (0.570)\n",
      "7: Nadia Oh (0.570)\n",
      "8: Rachel Stevens (0.571)\n"
     ]
    },
    {
     "data": {
      "text/plain": [
       "''"
      ]
     },
     "execution_count": 127,
     "metadata": {},
     "output_type": "execute_result"
    }
   ],
   "source": [
    "artist_recommend('britney spears',pivot_ap3,knn,8)"
   ]
  },
  {
   "cell_type": "markdown",
   "id": "c34fb99c",
   "metadata": {},
   "source": [
    "The function will use fuzzy matching to find partial name matches for \"britney spears,\" determine the best match, and then provide recommendations based on the K Nearest Neighbors model for the chosen artist. The recommendations will include similar artists along with their cosine distances."
   ]
  },
  {
   "cell_type": "code",
   "execution_count": 128,
   "id": "62638c4c",
   "metadata": {},
   "outputs": [
    {
     "name": "stdout",
     "output_type": "stream",
     "text": [
      "Top matches: [('Nirvana', 100), ('Nina', 73)]\n",
      "\n",
      "Recommendations for Nirvana:\n",
      "\n",
      "1: Nullset (0.130)\n",
      "2: SoundGarden | www.CdsCompletos.net (0.130)\n",
      "3: Humberto Gessinger Trio (0.130)\n",
      "4: Green River (0.130)\n",
      "5: Infectious Grooves (0.130)\n",
      "6: 4 Non Blondes (0.135)\n",
      "7: Puddle of Mudd (0.144)\n",
      "8: Meat Puppets (0.152)\n",
      "9: Institute (0.302)\n",
      "10: Living Colour (0.309)\n"
     ]
    },
    {
     "data": {
      "text/plain": [
       "''"
      ]
     },
     "execution_count": 128,
     "metadata": {},
     "output_type": "execute_result"
    }
   ],
   "source": [
    "artist_recommend('nirvana',pivot_ap3,knn,10)"
   ]
  },
  {
   "cell_type": "markdown",
   "id": "2c2b3e39",
   "metadata": {},
   "source": [
    "The function will use fuzzy matching to find partial name matches for \"nirvana,\" determine the best match, and then provide recommendations based on the K Nearest Neighbors model for the chosen artist. The recommendations will include similar artists along with their cosine distances."
   ]
  },
  {
   "cell_type": "code",
   "execution_count": 129,
   "id": "67b6bc0e",
   "metadata": {},
   "outputs": [
    {
     "name": "stdout",
     "output_type": "stream",
     "text": [
      "Top matches: [('Red Hot Chili Peppers', 78), ('The Chills', 64)]\n",
      "\n",
      "Recommendations for Red Hot Chili Peppers:\n",
      "\n",
      "1: The Offspring (0.568)\n",
      "2: Kreator (0.630)\n",
      "3: Bloodhound Gang (0.660)\n",
      "4: 5'nizza (0.689)\n",
      "5: Steppenwolf (0.691)\n",
      "6: Beatallica (0.692)\n",
      "7: Ногу Свело! (0.692)\n",
      "8: Mercyful Fate (0.692)\n",
      "9: John Frusciante (0.692)\n",
      "10: Ленинград (0.692)\n"
     ]
    },
    {
     "data": {
      "text/plain": [
       "''"
      ]
     },
     "execution_count": 129,
     "metadata": {},
     "output_type": "execute_result"
    }
   ],
   "source": [
    "artist_recommend('red hot chillis',pivot_ap3,knn,10)"
   ]
  },
  {
   "cell_type": "markdown",
   "id": "39e7b828",
   "metadata": {},
   "source": [
    "The function will use fuzzy matching to find partial name matches for \"Red Hot Chili Peppers,\" determine the best match, and then provide recommendations based on the K Nearest Neighbors model for the chosen artist. The recommendations will include similar artists along with their cosine distances."
   ]
  },
  {
   "cell_type": "markdown",
   "id": "45829179",
   "metadata": {},
   "source": [
    "### Feature Scaling: Implementing Thresholds\n",
    "\n",
    "In this phase, we incorporate threshold criteria to retain exclusively popular artists and engaged users. This approach is intended to diminish extraneous fluctuations within our data, ultimately enhancing the quality of our recommendations.\n",
    "\n",
    "Our filtration criteria will be as follows:\n",
    "\n",
    "For Users:\n",
    "\n",
    "1) Minimum Plays per User: A stipulated threshold for the aggregate play count per user.\n",
    "2) Minimum Unique Artist Plays: Users need to have played a minimum number of distinct artists to be considered.\n",
    "\n",
    "For Artists:\n",
    "\n",
    "1) Minimum Artist Plays: A designated threshold indicating the minimum number of times an artist must be played.\n",
    "2) Minimum Listeners: A predefined threshold for the minimum count of unique users per artist."
   ]
  },
  {
   "cell_type": "code",
   "execution_count": 130,
   "id": "bdc26f72",
   "metadata": {},
   "outputs": [
    {
     "name": "stdout",
     "output_type": "stream",
     "text": [
      "MINIMUM VALUES\n",
      "totalUserPlays from 3 to 1001\n",
      "totalUniqueArtists from 1 to 10\n",
      "totalArtistPlays from 1 to 10007\n",
      "totalUniqueUsers from 1 to 10\n",
      "\n",
      "FILTER IMPACT\n",
      "FILTERED Users: 1790 Artists: 871\n",
      "ORIGINAL Users: 1892 Artists: 17632\n",
      "FILTERED % ORIGINAL Users: 94.6% Artists: 4.9%\n"
     ]
    },
    {
     "data": {
      "text/html": [
       "<div>\n",
       "<style scoped>\n",
       "    .dataframe tbody tr th:only-of-type {\n",
       "        vertical-align: middle;\n",
       "    }\n",
       "\n",
       "    .dataframe tbody tr th {\n",
       "        vertical-align: top;\n",
       "    }\n",
       "\n",
       "    .dataframe thead th {\n",
       "        text-align: right;\n",
       "    }\n",
       "</style>\n",
       "<table border=\"1\" class=\"dataframe\">\n",
       "  <thead>\n",
       "    <tr style=\"text-align: right;\">\n",
       "      <th></th>\n",
       "      <th>totalUserPlays</th>\n",
       "      <th>totalUniqueArtists</th>\n",
       "      <th>totalArtistPlays</th>\n",
       "      <th>totalUniqueUsers</th>\n",
       "    </tr>\n",
       "  </thead>\n",
       "  <tbody>\n",
       "    <tr>\n",
       "      <th>count</th>\n",
       "      <td>52298.00</td>\n",
       "      <td>52298.00</td>\n",
       "      <td>52298.00</td>\n",
       "      <td>52298.00</td>\n",
       "    </tr>\n",
       "    <tr>\n",
       "      <th>mean</th>\n",
       "      <td>41467.40</td>\n",
       "      <td>49.87</td>\n",
       "      <td>192603.24</td>\n",
       "      <td>144.96</td>\n",
       "    </tr>\n",
       "    <tr>\n",
       "      <th>std</th>\n",
       "      <td>50438.77</td>\n",
       "      <td>1.70</td>\n",
       "      <td>336597.43</td>\n",
       "      <td>135.10</td>\n",
       "    </tr>\n",
       "    <tr>\n",
       "      <th>min</th>\n",
       "      <td>1001.00</td>\n",
       "      <td>10.00</td>\n",
       "      <td>10007.00</td>\n",
       "      <td>10.00</td>\n",
       "    </tr>\n",
       "    <tr>\n",
       "      <th>25%</th>\n",
       "      <td>13094.00</td>\n",
       "      <td>50.00</td>\n",
       "      <td>27175.00</td>\n",
       "      <td>45.00</td>\n",
       "    </tr>\n",
       "    <tr>\n",
       "      <th>50%</th>\n",
       "      <td>25511.00</td>\n",
       "      <td>50.00</td>\n",
       "      <td>64596.00</td>\n",
       "      <td>89.00</td>\n",
       "    </tr>\n",
       "    <tr>\n",
       "      <th>75%</th>\n",
       "      <td>48311.00</td>\n",
       "      <td>50.00</td>\n",
       "      <td>188634.00</td>\n",
       "      <td>208.00</td>\n",
       "    </tr>\n",
       "    <tr>\n",
       "      <th>max</th>\n",
       "      <td>480039.00</td>\n",
       "      <td>50.00</td>\n",
       "      <td>2393140.00</td>\n",
       "      <td>611.00</td>\n",
       "    </tr>\n",
       "  </tbody>\n",
       "</table>\n",
       "</div>"
      ],
      "text/plain": [
       "       totalUserPlays  totalUniqueArtists  totalArtistPlays  totalUniqueUsers\n",
       "count        52298.00            52298.00          52298.00          52298.00\n",
       "mean         41467.40               49.87         192603.24            144.96\n",
       "std          50438.77                1.70         336597.43            135.10\n",
       "min           1001.00               10.00          10007.00             10.00\n",
       "25%          13094.00               50.00          27175.00             45.00\n",
       "50%          25511.00               50.00          64596.00             89.00\n",
       "75%          48311.00               50.00         188634.00            208.00\n",
       "max         480039.00               50.00        2393140.00            611.00"
      ]
     },
     "execution_count": 130,
     "metadata": {},
     "output_type": "execute_result"
    }
   ],
   "source": [
    "minPlaysPerUser = 1000 # minimum aggregate play count per user\n",
    "minUniqueArtistPlays = 10 # minimum different artists that need values per user to be counted\n",
    "minArtistPlays = 10000 # minimum times an artist must be played\n",
    "minListeners = 10 # minimum unique listeners of artist to be played\n",
    "\n",
    "def apply_threshold(data,\n",
    "                    minPlaysPerUser,\n",
    "                    minUniqueArtistPlays,\n",
    "                    minArtistPlays,\n",
    "                    minListeners):\n",
    "    \n",
    "    filtered = (data[(data['totalUserPlays']>=minPlaysPerUser) & \n",
    "               (data['totalUniqueArtists']>=minUniqueArtistPlays) & \n",
    "               (data['totalArtistPlays']>=minArtistPlays) & \n",
    "               (data['totalUniqueUsers']>=minListeners)])\n",
    "\n",
    "    # confirm our min thresholds have been applied\n",
    "    print('MINIMUM VALUES')\n",
    "    print('totalUserPlays from {} to {}'.format(min(data.totalUserPlays),min(filtered.totalUserPlays)))\n",
    "    print('totalUniqueArtists from {} to {}'.format(min(data.totalUniqueArtists),min(filtered.totalUniqueArtists)))\n",
    "    print('totalArtistPlays from {} to {}'.format(min(data.totalArtistPlays),min(filtered.totalArtistPlays)))\n",
    "    print('totalUniqueUsers from {} to {}'.format(min(data.totalUniqueUsers),min(filtered.totalUniqueUsers)))\n",
    "\n",
    "    print('\\nFILTER IMPACT')\n",
    "    print(\"FILTERED Users: {} Artists: {}\".format(len(filtered['userID'].unique()),\n",
    "                                                           len(filtered['name'].unique())))\n",
    "    print(\"ORIGINAL Users: {} Artists: {}\".format(len(data['userID'].unique()),\n",
    "                                                           len(data['name'].unique())))\n",
    "    print(\"FILTERED % ORIGINAL Users: {:.1f}% Artists: {:.1f}%\".format(100*(len(filtered['userID'].unique())/len(data['userID'].unique())),\n",
    "                                                           100*(len(filtered['name'].unique())/len(data['name'].unique()))))\n",
    "    return filtered\n",
    "\n",
    "ap4 = apply_threshold(ap3,minPlaysPerUser,minUniqueArtistPlays,minArtistPlays,minListeners)\n",
    "\n",
    "ap4[['totalUserPlays','totalUniqueArtists','totalArtistPlays','totalUniqueUsers']].describe()"
   ]
  },
  {
   "cell_type": "code",
   "execution_count": 131,
   "id": "e7c40ce9",
   "metadata": {},
   "outputs": [
    {
     "name": "stdout",
     "output_type": "stream",
     "text": [
      "(871, 1790)\n",
      "NearestNeighbors(metric='cosine')\n"
     ]
    }
   ],
   "source": [
    "pivot_ap4,sparse_ap4 = data_to_sparse(ap4,index='name',columns='userID',values='userArtistPlays')\n",
    "knn = fit_knn(sparse_ap4)"
   ]
  },
  {
   "cell_type": "markdown",
   "id": "e44a3f2f",
   "metadata": {},
   "source": [
    "Post the application of the threshold, our outcomes exhibit enhancement; however, there remains potential for further refinement. Additionally, we can delve into the possibility of standardizing artist play data through the use of buckets or a binarization approach, both of which are discussed below."
   ]
  },
  {
   "cell_type": "code",
   "execution_count": 132,
   "id": "67e74dad",
   "metadata": {},
   "outputs": [
    {
     "name": "stdout",
     "output_type": "stream",
     "text": [
      "Top matches: [('Red Hot Chili Peppers', 78), ('Hot Chip', 61)]\n",
      "\n",
      "Recommendations for Red Hot Chili Peppers:\n",
      "\n",
      "1: The Offspring (0.568)\n",
      "2: Kreator (0.630)\n",
      "3: John Frusciante (0.692)\n",
      "4: Ennio Morricone (0.694)\n",
      "5: In Extremo (0.696)\n",
      "6: Riverside (0.697)\n",
      "7: Katie Melua (0.701)\n",
      "8: Ben Folds (0.702)\n",
      "9: Bush (0.718)\n",
      "10: Mylène Farmer (0.721)\n"
     ]
    },
    {
     "data": {
      "text/plain": [
       "''"
      ]
     },
     "execution_count": 132,
     "metadata": {},
     "output_type": "execute_result"
    }
   ],
   "source": [
    "artist_recommend('red hot chillis',pivot_ap4,knn,10)"
   ]
  },
  {
   "cell_type": "markdown",
   "id": "08d8a40f",
   "metadata": {},
   "source": [
    "### Feature Scaling: Transforming Plays into Buckets\n",
    "\n",
    "In this stage, we will proceed to transform our original play counts into a categorical scale of five buckets. A rating of five will indicate a dedicated fan, while a rating of one suggests that the user has engaged with the artist but displays a preference for other options. A rating of zero continues to signify that the user has not interacted with the artist at all."
   ]
  },
  {
   "cell_type": "code",
   "execution_count": 133,
   "id": "3c78d5cb",
   "metadata": {},
   "outputs": [
    {
     "data": {
      "text/plain": [
       "count    52298.00\n",
       "mean       992.30\n",
       "std       4885.03\n",
       "min          1.00\n",
       "25%        139.00\n",
       "50%        323.00\n",
       "75%        771.00\n",
       "max     352698.00\n",
       "Name: userArtistPlays, dtype: float64"
      ]
     },
     "execution_count": 133,
     "metadata": {},
     "output_type": "execute_result"
    }
   ],
   "source": [
    "ap4['userArtistPlays'].describe()"
   ]
  },
  {
   "cell_type": "code",
   "execution_count": 134,
   "id": "40b2a4c2",
   "metadata": {},
   "outputs": [
    {
     "name": "stdout",
     "output_type": "stream",
     "text": [
      "Bucket thresholds: [6, 4621, 9237, 13853, 18469]\n",
      "For instance, if value is 7, then the rank would be 2.\n"
     ]
    }
   ],
   "source": [
    "# convert our play counts into ratings buckets\n",
    "# a rating of 2 requires more than one play\n",
    "# a rating of at least 1 is given for >=1 play (else 0)\n",
    "\n",
    "b = ap4['userArtistPlays']\n",
    "buckets = np.linspace(b.quantile(.005),b.quantile(.995),5)\n",
    "print(\"Bucket thresholds: {}\".format([int(b) for b in buckets]))\n",
    "print(\"For instance, if value is {}, then the rank would be {}.\".\n",
    "      format(int(buckets[0]+1),len(buckets[:1])+1))\n",
    "\n",
    "def bucketize(x):\n",
    "    cur_bucket = 0\n",
    "    for i in range(0,5):\n",
    "        cur_bucket += 1\n",
    "        if x <= buckets[i]:\n",
    "            break\n",
    "    return cur_bucket"
   ]
  },
  {
   "cell_type": "code",
   "execution_count": 135,
   "id": "de05c2b3",
   "metadata": {},
   "outputs": [
    {
     "name": "stderr",
     "output_type": "stream",
     "text": [
      "/var/folders/qc/kchzqjkn6fdfm85q_f5345m00000gn/T/ipykernel_10831/3017920236.py:2: SettingWithCopyWarning: \n",
      "A value is trying to be set on a copy of a slice from a DataFrame.\n",
      "Try using .loc[row_indexer,col_indexer] = value instead\n",
      "\n",
      "See the caveats in the documentation: https://pandas.pydata.org/pandas-docs/stable/user_guide/indexing.html#returning-a-view-versus-a-copy\n",
      "  ap5['rank'] = ap5['userArtistPlays'].apply(bucketize)\n"
     ]
    }
   ],
   "source": [
    "ap5 = ap4\n",
    "ap5['rank'] = ap5['userArtistPlays'].apply(bucketize)"
   ]
  },
  {
   "cell_type": "code",
   "execution_count": 136,
   "id": "2737580a",
   "metadata": {},
   "outputs": [
    {
     "data": {
      "text/html": [
       "<div>\n",
       "<style scoped>\n",
       "    .dataframe tbody tr th:only-of-type {\n",
       "        vertical-align: middle;\n",
       "    }\n",
       "\n",
       "    .dataframe tbody tr th {\n",
       "        vertical-align: top;\n",
       "    }\n",
       "\n",
       "    .dataframe thead th {\n",
       "        text-align: right;\n",
       "    }\n",
       "</style>\n",
       "<table border=\"1\" class=\"dataframe\">\n",
       "  <thead>\n",
       "    <tr style=\"text-align: right;\">\n",
       "      <th>rank</th>\n",
       "      <th>1</th>\n",
       "      <th>2</th>\n",
       "      <th>3</th>\n",
       "      <th>4</th>\n",
       "      <th>5</th>\n",
       "    </tr>\n",
       "  </thead>\n",
       "  <tbody>\n",
       "    <tr>\n",
       "      <th>count</th>\n",
       "      <td>304.00</td>\n",
       "      <td>50493.00</td>\n",
       "      <td>872.00</td>\n",
       "      <td>254.00</td>\n",
       "      <td>375.00</td>\n",
       "    </tr>\n",
       "    <tr>\n",
       "      <th>mean</th>\n",
       "      <td>3.49</td>\n",
       "      <td>585.26</td>\n",
       "      <td>6230.25</td>\n",
       "      <td>11294.57</td>\n",
       "      <td>37443.69</td>\n",
       "    </tr>\n",
       "    <tr>\n",
       "      <th>std</th>\n",
       "      <td>1.73</td>\n",
       "      <td>737.34</td>\n",
       "      <td>1246.27</td>\n",
       "      <td>1272.97</td>\n",
       "      <td>42039.23</td>\n",
       "    </tr>\n",
       "    <tr>\n",
       "      <th>min</th>\n",
       "      <td>1.00</td>\n",
       "      <td>7.00</td>\n",
       "      <td>4627.00</td>\n",
       "      <td>9275.00</td>\n",
       "      <td>13860.00</td>\n",
       "    </tr>\n",
       "    <tr>\n",
       "      <th>25%</th>\n",
       "      <td>2.00</td>\n",
       "      <td>137.00</td>\n",
       "      <td>5186.00</td>\n",
       "      <td>10205.50</td>\n",
       "      <td>17133.50</td>\n",
       "    </tr>\n",
       "    <tr>\n",
       "      <th>50%</th>\n",
       "      <td>4.00</td>\n",
       "      <td>311.00</td>\n",
       "      <td>5889.50</td>\n",
       "      <td>11114.50</td>\n",
       "      <td>23830.00</td>\n",
       "    </tr>\n",
       "    <tr>\n",
       "      <th>75%</th>\n",
       "      <td>5.00</td>\n",
       "      <td>710.00</td>\n",
       "      <td>7138.75</td>\n",
       "      <td>12318.00</td>\n",
       "      <td>37931.50</td>\n",
       "    </tr>\n",
       "    <tr>\n",
       "      <th>max</th>\n",
       "      <td>6.00</td>\n",
       "      <td>4621.00</td>\n",
       "      <td>9199.00</td>\n",
       "      <td>13831.00</td>\n",
       "      <td>352698.00</td>\n",
       "    </tr>\n",
       "  </tbody>\n",
       "</table>\n",
       "</div>"
      ],
      "text/plain": [
       "rank       1        2       3        4         5\n",
       "count 304.00 50493.00  872.00   254.00    375.00\n",
       "mean    3.49   585.26 6230.25 11294.57  37443.69\n",
       "std     1.73   737.34 1246.27  1272.97  42039.23\n",
       "min     1.00     7.00 4627.00  9275.00  13860.00\n",
       "25%     2.00   137.00 5186.00 10205.50  17133.50\n",
       "50%     4.00   311.00 5889.50 11114.50  23830.00\n",
       "75%     5.00   710.00 7138.75 12318.00  37931.50\n",
       "max     6.00  4621.00 9199.00 13831.00 352698.00"
      ]
     },
     "execution_count": 136,
     "metadata": {},
     "output_type": "execute_result"
    }
   ],
   "source": [
    "ap5.groupby(['rank'])['userArtistPlays'].describe().T"
   ]
  },
  {
   "cell_type": "code",
   "execution_count": 137,
   "id": "f8ab5a6b",
   "metadata": {},
   "outputs": [
    {
     "name": "stdout",
     "output_type": "stream",
     "text": [
      "(871, 1790)\n",
      "NearestNeighbors(metric='cosine')\n"
     ]
    }
   ],
   "source": [
    "pivot_ap5,sparse_ap5 = data_to_sparse(ap5,index='name',columns='userID',values='rank')\n",
    "knn = fit_knn(sparse_ap5)"
   ]
  },
  {
   "cell_type": "markdown",
   "id": "71f80c8f",
   "metadata": {},
   "source": [
    "While there has been a slight increase in the cosine distance, it appears that the utilization of buckets has led to a significant enhancement in our recommendations."
   ]
  },
  {
   "cell_type": "code",
   "execution_count": 138,
   "id": "2388aa64",
   "metadata": {},
   "outputs": [
    {
     "name": "stdout",
     "output_type": "stream",
     "text": [
      "Top matches: [('Red Hot Chili Peppers', 78), ('Hot Chip', 61)]\n",
      "\n",
      "Recommendations for Red Hot Chili Peppers:\n",
      "\n",
      "1: Nirvana (0.650)\n",
      "2: Oasis (0.672)\n",
      "3: Foo Fighters (0.685)\n",
      "4: The Beatles (0.692)\n",
      "5: Muse (0.706)\n",
      "6: U2 (0.720)\n",
      "7: Radiohead (0.721)\n",
      "8: Aerosmith (0.722)\n",
      "9: System of a Down (0.723)\n",
      "10: Green Day (0.724)\n"
     ]
    },
    {
     "data": {
      "text/plain": [
       "''"
      ]
     },
     "execution_count": 138,
     "metadata": {},
     "output_type": "execute_result"
    }
   ],
   "source": [
    "artist_recommend('red hot chillis',pivot_ap5,knn,10)"
   ]
  },
  {
   "cell_type": "markdown",
   "id": "94a8bab5",
   "metadata": {},
   "source": [
    "The function will use fuzzy matching to find partial name matches for \"red hot chillis,\" determine the best match, and then provide recommendations based on the K Nearest Neighbors model for the chosen artist."
   ]
  },
  {
   "cell_type": "markdown",
   "id": "6d208816",
   "metadata": {},
   "source": [
    "#### Resources: \n",
    "\n",
    "https://www.last.fm/api/webauth\n",
    "\n",
    "https://cseweb.ucsd.edu/classes/wi15/cse255-a/reports/fa15/007.pdf\n",
    "\n",
    "https://vincentmai.com/Last-fm-Music-Recommender\n",
    "\n",
    "https://ansegura7.github.io/RS_CF_LastFm/\n",
    "\n",
    "https://towardsdatascience.com/music-artist-recommender-system-using-stochastic-gradient-descent-machine-learning-from-scratch-5f2f1aae972c"
   ]
  }
 ],
 "metadata": {
  "kernelspec": {
   "display_name": "Python 3 (ipykernel)",
   "language": "python",
   "name": "python3"
  },
  "language_info": {
   "codemirror_mode": {
    "name": "ipython",
    "version": 3
   },
   "file_extension": ".py",
   "mimetype": "text/x-python",
   "name": "python",
   "nbconvert_exporter": "python",
   "pygments_lexer": "ipython3",
   "version": "3.10.9"
  }
 },
 "nbformat": 4,
 "nbformat_minor": 5
}
