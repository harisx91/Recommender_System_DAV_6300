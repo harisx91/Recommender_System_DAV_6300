{
 "cells": [
  {
   "cell_type": "markdown",
   "id": "d4028323",
   "metadata": {},
   "source": [
    "# Week 7: Response Surface Methodology\n",
    "## AIM-5014-1A: Experimental Optimization\n",
    "### David Sweet // 20230713"
   ]
  },
  {
   "cell_type": "markdown",
   "id": "2d3c33ef",
   "metadata": {},
   "source": [
    "In class we discussed the problem below. In this assignment, we will solve it.\n",
    "\n",
    "## Song recommender\n",
    "\n",
    "Your auto-play song recommender system determines which song to play next for a user. It works like this:\n",
    "\n",
    "- Generate a candidate list of songs from a database of songs\n",
    "- Remove recently-played songs\n",
    "- Score the songs using a classifier (an ML model that returns a probability)\n",
    "- Play the song with the highest score\n",
    "\n",
    "\n",
    "In production you are ranking songs by $p_{\\text{listen}}$ = P{user will listen until the end}\n",
    "\n",
    "Your team has developed an alternative scoring model, $p_{\\text{like}}$ = P{user will click song’s like button}\n",
    "\n",
    "Instead of A/B testing the two models to pick the better of the two, you will attempt to combine them into a single model that is (potentially) better than either model alone.\n",
    "\n",
    "To do this, you'll score songs with this function:\n",
    "$$score = \\alpha p_{\\text{listen}} + (1 - \\alpha) p_{\\text{like}}$$\n",
    "where $\\alpha \\in [0,1]$.\n",
    "\n",
    "Using a response surface method, you will determine the optimal value of the parameter $\\alpha$.\n"
   ]
  },
  {
   "cell_type": "code",
   "execution_count": null,
   "id": "1a8e4ce5",
   "metadata": {},
   "outputs": [],
   "source": [
    "import numpy as np\n",
    "import matplotlib.pyplot as plt"
   ]
  },
  {
   "cell_type": "markdown",
   "id": "92950a11",
   "metadata": {},
   "source": [
    "The function `measure(alpha)` will emulate the entire measurement stage of your experiment. The function will collect randomized observations, aggregate them, average them, and then return the value of `y_bar`, the aggregate measurement.\n",
    "\n",
    "Note that the standard error of `y_bar` is at `se_y_bar`."
   ]
  },
  {
   "cell_type": "code",
   "execution_count": null,
   "id": "86cfc5fe",
   "metadata": {},
   "outputs": [],
   "source": [
    "se_y_bar = 0.2\n",
    "def measure(alpha):   \n",
    "    return 10 - 10*(alpha - 0.3)**2 + se_y_bar*np.random.normal()"
   ]
  },
  {
   "cell_type": "markdown",
   "id": "0bfdd11e",
   "metadata": {},
   "source": [
    "# Q1\n",
    "\n",
    "First, you need to take a few aggregate measurements. How many? Why that many? Which values of $\\alpha$ should you measure?\n",
    "\n",
    "a) The code in the cell below creates lists to hold your measurements, `alphas` and `y_bars`. It also demonstrates how to record your first measurement. Modify the cell to record the rest of your measurements.\n",
    "\n",
    "b) Plot your measurements."
   ]
  },
  {
   "cell_type": "code",
   "execution_count": null,
   "id": "1ea43ae5",
   "metadata": {},
   "outputs": [],
   "source": [
    "np.random.seed(17)  # for reproducibility\n",
    "\n",
    "alphas = []\n",
    "y_bars = []\n",
    "\n",
    "alphas.append(0)\n",
    "y_bars.append(measure(alpha=0))"
   ]
  },
  {
   "cell_type": "markdown",
   "id": "d7f9f928",
   "metadata": {},
   "source": [
    "## Q2\n",
    "\n",
    "Next you need to create a surrogate model of the response function.\n",
    "\n",
    "To get you started, I've laid out some boilerplate NumPy in the next cell.\n",
    "\n",
    "a) Write out the linear surrogate model that needs to be fit (in LaTex or include an image of your handwritten work).\n",
    "\n",
    "b) Fill in the missing term (the `TODO`)."
   ]
  },
  {
   "cell_type": "code",
   "execution_count": null,
   "id": "05cdb8c3",
   "metadata": {},
   "outputs": [],
   "source": [
    "X = np.vstack( (\n",
    "    np.ones(shape=(len(y_bars,))),\n",
    "    alphas,\n",
    "    TODO,\n",
    ") ).T\n",
    "X              "
   ]
  },
  {
   "cell_type": "markdown",
   "id": "6a949b25",
   "metadata": {},
   "source": [
    "c) Fit the model using the normal equations. Fill in the `TODO`. What do the beta values represent?"
   ]
  },
  {
   "cell_type": "code",
   "execution_count": null,
   "id": "ac04d233",
   "metadata": {},
   "outputs": [],
   "source": [
    "beta = np.linalg.inv(TODO\n",
    "beta"
   ]
  },
  {
   "cell_type": "markdown",
   "id": "5ecc75b9",
   "metadata": {},
   "source": [
    "d) Finally, for 100 values of $\\alpha$ -- `alphas_what_if` -- generate the values of `y_bar` predicted by your linear surrogate model. Then plot them. We're calling them \"what if\" values to emphasize the fact that they are estimated by your surrogate and not measured. They say, \"If I were to measure `alpha = ...`, I estimate that I would find `y_bar = ...`. Fill in the `TODO`."
   ]
  },
  {
   "cell_type": "code",
   "execution_count": null,
   "id": "bd6c7c42",
   "metadata": {},
   "outputs": [],
   "source": [
    "alphas_what_if = np.linspace(0, 1, 100)\n",
    "y_what_if = beta[0] + TODO\n",
    "plt.plot(alphas, y_bars, 'ok');\n",
    "plt.plot(alphas_what_if, y_what_if, '--k');"
   ]
  },
  {
   "cell_type": "markdown",
   "id": "3fc16dfb",
   "metadata": {},
   "source": [
    "## Q3\n",
    "\n",
    "a) From your what-if values, estimate the optimal value of $\\alpha$. Call it `alpha_opt`."
   ]
  },
  {
   "cell_type": "markdown",
   "id": "40ee9722",
   "metadata": {},
   "source": [
    "Finally, run an A/B test to validate your result.\n",
    "\n",
    "b) Measure the original production model (which value of $\\alpha$ corresponds to the original production model?).\n",
    "\n",
    "c) Measure the optimal model.\n",
    "\n",
    "d) Analyze your results. Assume PS = 1.\n",
    " \n",
    "N.B. There is no need to calculate N (the A/B test design) in this exercise. Assume `measure()` is taking care of it."
   ]
  }
 ],
 "metadata": {
  "kernelspec": {
   "display_name": "Python 3 (ipykernel)",
   "language": "python",
   "name": "python3"
  },
  "language_info": {
   "codemirror_mode": {
    "name": "ipython",
    "version": 3
   },
   "file_extension": ".py",
   "mimetype": "text/x-python",
   "name": "python",
   "nbconvert_exporter": "python",
   "pygments_lexer": "ipython3",
   "version": "3.9.7"
  }
 },
 "nbformat": 4,
 "nbformat_minor": 5
}
