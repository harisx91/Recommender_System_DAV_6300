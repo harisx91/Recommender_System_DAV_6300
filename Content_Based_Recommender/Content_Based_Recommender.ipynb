{
 "cells": [
  {
   "cell_type": "markdown",
   "metadata": {},
   "source": [
    "### Name: Haris Sumra\n",
    "#### Assignment: Content-Based Recommender"
   ]
  },
  {
   "cell_type": "markdown",
   "metadata": {},
   "source": [
    "Importing the Dependencies"
   ]
  },
  {
   "cell_type": "code",
   "execution_count": 2,
   "metadata": {},
   "outputs": [],
   "source": [
    "import pandas as pd\n",
    "import numpy as np\n",
    "import matplotlib.pyplot as plt\n",
    "import scipy\n",
    "import seaborn as sns\n",
    "\n",
    "%matplotlib inline\n",
    "import urllib.request, urllib.parse, urllib.error\n",
    "import json"
   ]
  },
  {
   "cell_type": "markdown",
   "metadata": {},
   "source": [
    "Get the API key from a JSON file, stored in the same folder"
   ]
  },
  {
   "cell_type": "code",
   "execution_count": 5,
   "metadata": {},
   "outputs": [],
   "source": [
    "serviceurl = 'http://www.omdbapi.com/?'\n",
    "apikey = '&apikey='+omdbapi"
   ]
  },
  {
   "cell_type": "code",
   "execution_count": 6,
   "metadata": {},
   "outputs": [],
   "source": [
    "with open('APIkeys.json') as f:\n",
    "    keys = json.load(f)\n",
    "    omdbapi = keys['OMDBapi']"
   ]
  },
  {
   "cell_type": "markdown",
   "metadata": {},
   "source": [
    "This is how our JSON dataset will print"
   ]
  },
  {
   "cell_type": "code",
   "execution_count": 7,
   "metadata": {},
   "outputs": [],
   "source": [
    "#Creating a function to print our JSON dataset\n",
    "\n",
    "def print_json(json_data):\n",
    "    list_keys=['Title', 'Year', 'Rated', 'Released', 'Runtime', 'Genre', 'Director', 'Writer', \n",
    "               'Actors', 'Plot', 'Language', 'Country', 'Awards', 'Ratings', \n",
    "               'Metascore', 'imdbRating', 'imdbVotes', 'imdbID']\n",
    "    print(\"-\"*50)\n",
    "    for k in list_keys:\n",
    "        if k in list(json_data.keys()):\n",
    "            print(f\"{k}: {json_data[k]}\")\n",
    "    print(\"-\"*50)"
   ]
  },
  {
   "cell_type": "markdown",
   "metadata": {},
   "source": [
    "This is what will be storing in out local database, and we will use this function to create/update the local movie database with the data retreived from the web"
   ]
  },
  {
   "cell_type": "code",
   "execution_count": 8,
   "metadata": {},
   "outputs": [],
   "source": [
    "#Creating the function that will take the jason data and will store that data in local database\n",
    "def save_in_database(json_data):\n",
    "    \n",
    "    filename = input(\"Please enter a name for the database (extension not needed, it will be added automatically): \")\n",
    "    filename = filename+'.sqlite'\n",
    "    \n",
    "    import sqlite3\n",
    "    conn = sqlite3.connect(str(filename))\n",
    "    cur=conn.cursor()\n",
    "    \n",
    "    title = json_data['Title']\n",
    "    # Goes through the json dataset and extracts information if it is available\n",
    "    if json_data['Year']!='N/A':\n",
    "        year = int(json_data['Year'])\n",
    "    if json_data['Runtime']!='N/A':\n",
    "        runtime = int(json_data['Runtime'].split()[0])\n",
    "    ##if json_data['Genre']!= 'N/A':\n",
    "        ##genre = json_data['Genre']\n",
    "    if json_data['Country']!='N/A':\n",
    "        country = json_data['Country']\n",
    "    if json_data['Metascore']!='N/A':\n",
    "        metascore = float(json_data['Metascore'])\n",
    "    else:\n",
    "        metascore=-1\n",
    "    if json_data['imdbRating']!='N/A':\n",
    "        imdb_rating = float(json_data['imdbRating'])\n",
    "    else:\n",
    "        imdb_rating=-1\n",
    "    \n",
    "    # SQL commands\n",
    "    cur.execute('''CREATE TABLE IF NOT EXISTS MovieInfo \n",
    "    (Title TEXT, Year INTEGER, Runtime INTEGER, Country TEXT, Metascore REAL, IMDBRating REAL)''')\n",
    "    \n",
    "    cur.execute('SELECT Title FROM MovieInfo WHERE Title = ? ', (title,))\n",
    "    row = cur.fetchone()\n",
    "    \n",
    "    if row is None:\n",
    "        cur.execute('''INSERT INTO MovieInfo (Title, Year, Runtime, Country, Metascore, IMDBRating)\n",
    "                VALUES (?,?,?,?,?,?)''', (title,year,runtime,country,metascore,imdb_rating))\n",
    "    else:\n",
    "        print(\"Record already found. No update made.\")\n",
    "    \n",
    "    # Commits the change and close the connection to the database\n",
    "    conn.commit()\n",
    "    conn.close()"
   ]
  },
  {
   "cell_type": "markdown",
   "metadata": {},
   "source": [
    "Function to print contents of the local database"
   ]
  },
  {
   "cell_type": "code",
   "execution_count": 9,
   "metadata": {},
   "outputs": [],
   "source": [
    "#Creating a function that will print the database stored\n",
    "def print_database(database):\n",
    "    \n",
    "    import sqlite3\n",
    "    conn = sqlite3.connect(str(database))\n",
    "    cur=conn.cursor()\n",
    "    \n",
    "    for row in cur.execute('SELECT * FROM MovieInfo'):\n",
    "        print(row)\n",
    "    conn.close()"
   ]
  },
  {
   "cell_type": "markdown",
   "metadata": {},
   "source": [
    "Function to save the database content in an Excel file"
   ]
  },
  {
   "cell_type": "code",
   "execution_count": 10,
   "metadata": {},
   "outputs": [],
   "source": [
    "#Creating a function that will save ourr database in an excel file for us to import later\n",
    "def save_in_excel(filename, database):\n",
    "    \n",
    "    if filename.split('.')[-1]!='xls' and filename.split('.')[-1]!='xlsx':\n",
    "        print (\"Filename does not have correct extension. Please try again\")\n",
    "        return None\n",
    "    \n",
    "    import pandas as pd\n",
    "    import sqlite3\n",
    "    \n",
    "    #df=pd.DataFrame(columns=['Title','Year', 'Runtime', 'Country', 'Metascore', 'IMDB_Rating'])\n",
    "    \n",
    "    conn = sqlite3.connect(str(database))\n",
    "    #cur=conn.cursor()\n",
    "    \n",
    "    df=pd.read_sql_query(\"SELECT * FROM MovieInfo\", conn)\n",
    "    conn.close()\n",
    "    \n",
    "    df.to_excel(filename,sheet_name='Movie Info')"
   ]
  },
  {
   "cell_type": "markdown",
   "metadata": {},
   "source": [
    "Function to search for information about a movie"
   ]
  },
  {
   "cell_type": "code",
   "execution_count": 11,
   "metadata": {},
   "outputs": [],
   "source": [
    "#Here is a function that will take the input of the movie that we want to store or lookup, once we have looked up\n",
    "## a movie, then we will ask if we want to save the movie in ourr database, and if the response is true\n",
    "## then we can store the movie in \"movies\" database\n",
    "\n",
    "\n",
    "def search_movie(title):\n",
    "    if len(title) < 1 or title=='quit': \n",
    "        print(\"Goodbye now...\")\n",
    "        return None\n",
    "\n",
    "    try:\n",
    "        url = serviceurl + urllib.parse.urlencode({'t': title})+apikey\n",
    "        print(f'Retrieving the data of \"{title}\" now... ')\n",
    "        uh = urllib.request.urlopen(url)\n",
    "        data = uh.read()\n",
    "        json_data=json.loads(data)\n",
    "        \n",
    "        if json_data['Response']=='True':\n",
    "            print_json(json_data)\n",
    "            \n",
    "            save_database_yes_no=input ('Save the movie info in a local database? Enter \"yes\" or \"no\": ').lower()\n",
    "            if save_database_yes_no=='yes':\n",
    "                save_in_database(json_data)\n",
    "        else:\n",
    "            print(\"Error encountered: \",json_data['Error'])\n",
    "    \n",
    "    except urllib.error.URLError as e:\n",
    "        print(f\"ERROR: {e.reason}\")"
   ]
  },
  {
   "cell_type": "markdown",
   "metadata": {},
   "source": [
    "Search for any movie"
   ]
  },
  {
   "cell_type": "code",
   "execution_count": 12,
   "metadata": {},
   "outputs": [
    {
     "name": "stdout",
     "output_type": "stream",
     "text": [
      "\n",
      "Enter the name of a movie (enter 'quit' or hit ENTER to quit): Avatar\n",
      "Retrieving the data of \"Avatar\" now... \n",
      "--------------------------------------------------\n",
      "Title: Avatar\n",
      "Year: 2009\n",
      "Rated: PG-13\n",
      "Released: 18 Dec 2009\n",
      "Runtime: 162 min\n",
      "Genre: Action, Adventure, Fantasy\n",
      "Director: James Cameron\n",
      "Writer: James Cameron\n",
      "Actors: Sam Worthington, Zoe Saldana, Sigourney Weaver\n",
      "Plot: A paraplegic Marine dispatched to the moon Pandora on a unique mission becomes torn between following his orders and protecting the world he feels is his home.\n",
      "Language: English, Spanish\n",
      "Country: United States\n",
      "Awards: Won 3 Oscars. 89 wins & 131 nominations total\n",
      "Ratings: [{'Source': 'Internet Movie Database', 'Value': '7.8/10'}, {'Source': 'Rotten Tomatoes', 'Value': '82%'}, {'Source': 'Metacritic', 'Value': '83/100'}]\n",
      "Metascore: 83\n",
      "imdbRating: 7.8\n",
      "imdbVotes: 1,240,509\n",
      "imdbID: tt0499549\n",
      "--------------------------------------------------\n",
      "Save the movie info in a local database? Enter \"yes\" or \"no\": yes\n",
      "Please enter a name for the database (extension not needed, it will be added automatically): movies\n"
     ]
    }
   ],
   "source": [
    "title = input('\\nEnter the name of a movie (enter \\'quit\\' or hit ENTER to quit): ')\n",
    "if len(title) < 1 or title=='quit': \n",
    "    print(\"Goodbye now...\")\n",
    "else:\n",
    "    search_movie(title)"
   ]
  },
  {
   "cell_type": "markdown",
   "metadata": {},
   "source": [
    "Print the content of the local database"
   ]
  },
  {
   "cell_type": "code",
   "execution_count": 13,
   "metadata": {},
   "outputs": [
    {
     "name": "stdout",
     "output_type": "stream",
     "text": [
      "('Titanic', 1997, 194, 'United States, Mexico', 75.0, 7.9)\n",
      "('Jumanji', 1995, 104, 'United States', 39.0, 7.0)\n",
      "('To Kill a Mockingbird', 1962, 129, 'United States', 88.0, 8.3)\n",
      "('The Whale', 2011, 85, 'Canada', 64.0, 8.1)\n",
      "('Top Gun', 1986, 110, 'United States', 50.0, 6.9)\n",
      "('I Came By', 2022, 110, 'United Kingdom', 57.0, 6.1)\n",
      "('The Godfather', 1972, 175, 'United States', 100.0, 9.2)\n",
      "('Top Gun: Maverick', 2022, 130, 'United States', 78.0, 8.4)\n",
      "('The Notebook', 2004, 123, 'United States', 53.0, 7.8)\n",
      "('Halloween', 1978, 91, 'United States', 87.0, 7.7)\n",
      "('Mario', 2018, 124, 'Switzerland', -1.0, 7.4)\n",
      "('Hello', 2008, 129, 'India', -1.0, 3.3)\n",
      "('Zola', 2020, 86, 'United States', 76.0, 6.5)\n",
      "('Unforgiven', 1992, 130, 'United States', 85.0, 8.2)\n",
      "('Avatar', 2009, 162, 'United States', 83.0, 7.8)\n"
     ]
    }
   ],
   "source": [
    "print_database('movies.sqlite')"
   ]
  },
  {
   "cell_type": "code",
   "execution_count": 314,
   "metadata": {},
   "outputs": [],
   "source": [
    "#title = input('\\nEnter the name of a movie (enter \\'quit\\' or hit ENTER to quit): ')\n",
    "#if len(title) < 1 or title=='quit': \n",
    "#    print(\"Goodbye now...\")\n",
    "#else:\n",
    "#    search_movie(title)"
   ]
  },
  {
   "cell_type": "markdown",
   "metadata": {},
   "source": [
    "Save the database content into an Excel file"
   ]
  },
  {
   "cell_type": "code",
   "execution_count": 360,
   "metadata": {},
   "outputs": [],
   "source": [
    "save_in_excel('test.xlsx','movies.sqlite')"
   ]
  },
  {
   "cell_type": "markdown",
   "metadata": {},
   "source": [
    "We can reade the excel file using pandas, we can we start to explore our data"
   ]
  },
  {
   "cell_type": "code",
   "execution_count": 361,
   "metadata": {},
   "outputs": [
    {
     "data": {
      "text/html": [
       "<div>\n",
       "<style scoped>\n",
       "    .dataframe tbody tr th:only-of-type {\n",
       "        vertical-align: middle;\n",
       "    }\n",
       "\n",
       "    .dataframe tbody tr th {\n",
       "        vertical-align: top;\n",
       "    }\n",
       "\n",
       "    .dataframe thead th {\n",
       "        text-align: right;\n",
       "    }\n",
       "</style>\n",
       "<table border=\"1\" class=\"dataframe\">\n",
       "  <thead>\n",
       "    <tr style=\"text-align: right;\">\n",
       "      <th></th>\n",
       "      <th>Unnamed: 0</th>\n",
       "      <th>Title</th>\n",
       "      <th>Year</th>\n",
       "      <th>Runtime</th>\n",
       "      <th>Country</th>\n",
       "      <th>Metascore</th>\n",
       "      <th>IMDBRating</th>\n",
       "    </tr>\n",
       "  </thead>\n",
       "  <tbody>\n",
       "    <tr>\n",
       "      <th>0</th>\n",
       "      <td>0</td>\n",
       "      <td>Titanic</td>\n",
       "      <td>1997</td>\n",
       "      <td>194</td>\n",
       "      <td>United States, Mexico</td>\n",
       "      <td>75</td>\n",
       "      <td>7.9</td>\n",
       "    </tr>\n",
       "    <tr>\n",
       "      <th>1</th>\n",
       "      <td>1</td>\n",
       "      <td>Jumanji</td>\n",
       "      <td>1995</td>\n",
       "      <td>104</td>\n",
       "      <td>United States</td>\n",
       "      <td>39</td>\n",
       "      <td>7.0</td>\n",
       "    </tr>\n",
       "    <tr>\n",
       "      <th>2</th>\n",
       "      <td>2</td>\n",
       "      <td>To Kill a Mockingbird</td>\n",
       "      <td>1962</td>\n",
       "      <td>129</td>\n",
       "      <td>United States</td>\n",
       "      <td>88</td>\n",
       "      <td>8.3</td>\n",
       "    </tr>\n",
       "    <tr>\n",
       "      <th>3</th>\n",
       "      <td>3</td>\n",
       "      <td>The Whale</td>\n",
       "      <td>2011</td>\n",
       "      <td>85</td>\n",
       "      <td>Canada</td>\n",
       "      <td>64</td>\n",
       "      <td>8.1</td>\n",
       "    </tr>\n",
       "    <tr>\n",
       "      <th>4</th>\n",
       "      <td>4</td>\n",
       "      <td>Top Gun</td>\n",
       "      <td>1986</td>\n",
       "      <td>110</td>\n",
       "      <td>United States</td>\n",
       "      <td>50</td>\n",
       "      <td>6.9</td>\n",
       "    </tr>\n",
       "    <tr>\n",
       "      <th>5</th>\n",
       "      <td>5</td>\n",
       "      <td>I Came By</td>\n",
       "      <td>2022</td>\n",
       "      <td>110</td>\n",
       "      <td>United Kingdom</td>\n",
       "      <td>57</td>\n",
       "      <td>6.1</td>\n",
       "    </tr>\n",
       "    <tr>\n",
       "      <th>6</th>\n",
       "      <td>6</td>\n",
       "      <td>The Godfather</td>\n",
       "      <td>1972</td>\n",
       "      <td>175</td>\n",
       "      <td>United States</td>\n",
       "      <td>100</td>\n",
       "      <td>9.2</td>\n",
       "    </tr>\n",
       "    <tr>\n",
       "      <th>7</th>\n",
       "      <td>7</td>\n",
       "      <td>Top Gun: Maverick</td>\n",
       "      <td>2022</td>\n",
       "      <td>130</td>\n",
       "      <td>United States</td>\n",
       "      <td>78</td>\n",
       "      <td>8.4</td>\n",
       "    </tr>\n",
       "    <tr>\n",
       "      <th>8</th>\n",
       "      <td>8</td>\n",
       "      <td>The Notebook</td>\n",
       "      <td>2004</td>\n",
       "      <td>123</td>\n",
       "      <td>United States</td>\n",
       "      <td>53</td>\n",
       "      <td>7.8</td>\n",
       "    </tr>\n",
       "    <tr>\n",
       "      <th>9</th>\n",
       "      <td>9</td>\n",
       "      <td>Halloween</td>\n",
       "      <td>1978</td>\n",
       "      <td>91</td>\n",
       "      <td>United States</td>\n",
       "      <td>87</td>\n",
       "      <td>7.7</td>\n",
       "    </tr>\n",
       "    <tr>\n",
       "      <th>10</th>\n",
       "      <td>10</td>\n",
       "      <td>Mario</td>\n",
       "      <td>2018</td>\n",
       "      <td>124</td>\n",
       "      <td>Switzerland</td>\n",
       "      <td>-1</td>\n",
       "      <td>7.4</td>\n",
       "    </tr>\n",
       "    <tr>\n",
       "      <th>11</th>\n",
       "      <td>11</td>\n",
       "      <td>Hello</td>\n",
       "      <td>2008</td>\n",
       "      <td>129</td>\n",
       "      <td>India</td>\n",
       "      <td>-1</td>\n",
       "      <td>3.3</td>\n",
       "    </tr>\n",
       "    <tr>\n",
       "      <th>12</th>\n",
       "      <td>12</td>\n",
       "      <td>Zola</td>\n",
       "      <td>2020</td>\n",
       "      <td>86</td>\n",
       "      <td>United States</td>\n",
       "      <td>76</td>\n",
       "      <td>6.5</td>\n",
       "    </tr>\n",
       "    <tr>\n",
       "      <th>13</th>\n",
       "      <td>13</td>\n",
       "      <td>Unforgiven</td>\n",
       "      <td>1992</td>\n",
       "      <td>130</td>\n",
       "      <td>United States</td>\n",
       "      <td>85</td>\n",
       "      <td>8.2</td>\n",
       "    </tr>\n",
       "  </tbody>\n",
       "</table>\n",
       "</div>"
      ],
      "text/plain": [
       "    Unnamed: 0                  Title  Year  Runtime                Country  \\\n",
       "0            0                Titanic  1997      194  United States, Mexico   \n",
       "1            1                Jumanji  1995      104          United States   \n",
       "2            2  To Kill a Mockingbird  1962      129          United States   \n",
       "3            3              The Whale  2011       85                 Canada   \n",
       "4            4                Top Gun  1986      110          United States   \n",
       "5            5              I Came By  2022      110         United Kingdom   \n",
       "6            6          The Godfather  1972      175          United States   \n",
       "7            7      Top Gun: Maverick  2022      130          United States   \n",
       "8            8           The Notebook  2004      123          United States   \n",
       "9            9              Halloween  1978       91          United States   \n",
       "10          10                  Mario  2018      124            Switzerland   \n",
       "11          11                  Hello  2008      129                  India   \n",
       "12          12                   Zola  2020       86          United States   \n",
       "13          13             Unforgiven  1992      130          United States   \n",
       "\n",
       "    Metascore  IMDBRating  \n",
       "0          75         7.9  \n",
       "1          39         7.0  \n",
       "2          88         8.3  \n",
       "3          64         8.1  \n",
       "4          50         6.9  \n",
       "5          57         6.1  \n",
       "6         100         9.2  \n",
       "7          78         8.4  \n",
       "8          53         7.8  \n",
       "9          87         7.7  \n",
       "10         -1         7.4  \n",
       "11         -1         3.3  \n",
       "12         76         6.5  \n",
       "13         85         8.2  "
      ]
     },
     "execution_count": 361,
     "metadata": {},
     "output_type": "execute_result"
    }
   ],
   "source": [
    "df=pd.read_excel('test.xlsx')\n",
    "df"
   ]
  },
  {
   "cell_type": "code",
   "execution_count": 362,
   "metadata": {},
   "outputs": [
    {
     "data": {
      "text/plain": [
       "(14, 7)"
      ]
     },
     "execution_count": 362,
     "metadata": {},
     "output_type": "execute_result"
    }
   ],
   "source": [
    "df.shape"
   ]
  },
  {
   "cell_type": "code",
   "execution_count": 363,
   "metadata": {},
   "outputs": [
    {
     "data": {
      "text/html": [
       "<div>\n",
       "<style scoped>\n",
       "    .dataframe tbody tr th:only-of-type {\n",
       "        vertical-align: middle;\n",
       "    }\n",
       "\n",
       "    .dataframe tbody tr th {\n",
       "        vertical-align: top;\n",
       "    }\n",
       "\n",
       "    .dataframe thead th {\n",
       "        text-align: right;\n",
       "    }\n",
       "</style>\n",
       "<table border=\"1\" class=\"dataframe\">\n",
       "  <thead>\n",
       "    <tr style=\"text-align: right;\">\n",
       "      <th></th>\n",
       "      <th>Unnamed: 0</th>\n",
       "      <th>Title</th>\n",
       "      <th>Year</th>\n",
       "      <th>Runtime</th>\n",
       "      <th>Country</th>\n",
       "      <th>Metascore</th>\n",
       "      <th>IMDBRating</th>\n",
       "    </tr>\n",
       "  </thead>\n",
       "  <tbody>\n",
       "    <tr>\n",
       "      <th>1</th>\n",
       "      <td>0</td>\n",
       "      <td>Titanic</td>\n",
       "      <td>1997</td>\n",
       "      <td>194</td>\n",
       "      <td>United States, Mexico</td>\n",
       "      <td>75</td>\n",
       "      <td>7.9</td>\n",
       "    </tr>\n",
       "    <tr>\n",
       "      <th>2</th>\n",
       "      <td>1</td>\n",
       "      <td>Jumanji</td>\n",
       "      <td>1995</td>\n",
       "      <td>104</td>\n",
       "      <td>United States</td>\n",
       "      <td>39</td>\n",
       "      <td>7.0</td>\n",
       "    </tr>\n",
       "    <tr>\n",
       "      <th>3</th>\n",
       "      <td>2</td>\n",
       "      <td>To Kill a Mockingbird</td>\n",
       "      <td>1962</td>\n",
       "      <td>129</td>\n",
       "      <td>United States</td>\n",
       "      <td>88</td>\n",
       "      <td>8.3</td>\n",
       "    </tr>\n",
       "    <tr>\n",
       "      <th>4</th>\n",
       "      <td>3</td>\n",
       "      <td>The Whale</td>\n",
       "      <td>2011</td>\n",
       "      <td>85</td>\n",
       "      <td>Canada</td>\n",
       "      <td>64</td>\n",
       "      <td>8.1</td>\n",
       "    </tr>\n",
       "    <tr>\n",
       "      <th>5</th>\n",
       "      <td>4</td>\n",
       "      <td>Top Gun</td>\n",
       "      <td>1986</td>\n",
       "      <td>110</td>\n",
       "      <td>United States</td>\n",
       "      <td>50</td>\n",
       "      <td>6.9</td>\n",
       "    </tr>\n",
       "    <tr>\n",
       "      <th>6</th>\n",
       "      <td>5</td>\n",
       "      <td>I Came By</td>\n",
       "      <td>2022</td>\n",
       "      <td>110</td>\n",
       "      <td>United Kingdom</td>\n",
       "      <td>57</td>\n",
       "      <td>6.1</td>\n",
       "    </tr>\n",
       "    <tr>\n",
       "      <th>7</th>\n",
       "      <td>6</td>\n",
       "      <td>The Godfather</td>\n",
       "      <td>1972</td>\n",
       "      <td>175</td>\n",
       "      <td>United States</td>\n",
       "      <td>100</td>\n",
       "      <td>9.2</td>\n",
       "    </tr>\n",
       "    <tr>\n",
       "      <th>8</th>\n",
       "      <td>7</td>\n",
       "      <td>Top Gun: Maverick</td>\n",
       "      <td>2022</td>\n",
       "      <td>130</td>\n",
       "      <td>United States</td>\n",
       "      <td>78</td>\n",
       "      <td>8.4</td>\n",
       "    </tr>\n",
       "    <tr>\n",
       "      <th>9</th>\n",
       "      <td>8</td>\n",
       "      <td>The Notebook</td>\n",
       "      <td>2004</td>\n",
       "      <td>123</td>\n",
       "      <td>United States</td>\n",
       "      <td>53</td>\n",
       "      <td>7.8</td>\n",
       "    </tr>\n",
       "    <tr>\n",
       "      <th>10</th>\n",
       "      <td>9</td>\n",
       "      <td>Halloween</td>\n",
       "      <td>1978</td>\n",
       "      <td>91</td>\n",
       "      <td>United States</td>\n",
       "      <td>87</td>\n",
       "      <td>7.7</td>\n",
       "    </tr>\n",
       "    <tr>\n",
       "      <th>11</th>\n",
       "      <td>10</td>\n",
       "      <td>Mario</td>\n",
       "      <td>2018</td>\n",
       "      <td>124</td>\n",
       "      <td>Switzerland</td>\n",
       "      <td>-1</td>\n",
       "      <td>7.4</td>\n",
       "    </tr>\n",
       "    <tr>\n",
       "      <th>12</th>\n",
       "      <td>11</td>\n",
       "      <td>Hello</td>\n",
       "      <td>2008</td>\n",
       "      <td>129</td>\n",
       "      <td>India</td>\n",
       "      <td>-1</td>\n",
       "      <td>3.3</td>\n",
       "    </tr>\n",
       "    <tr>\n",
       "      <th>13</th>\n",
       "      <td>12</td>\n",
       "      <td>Zola</td>\n",
       "      <td>2020</td>\n",
       "      <td>86</td>\n",
       "      <td>United States</td>\n",
       "      <td>76</td>\n",
       "      <td>6.5</td>\n",
       "    </tr>\n",
       "    <tr>\n",
       "      <th>14</th>\n",
       "      <td>13</td>\n",
       "      <td>Unforgiven</td>\n",
       "      <td>1992</td>\n",
       "      <td>130</td>\n",
       "      <td>United States</td>\n",
       "      <td>85</td>\n",
       "      <td>8.2</td>\n",
       "    </tr>\n",
       "  </tbody>\n",
       "</table>\n",
       "</div>"
      ],
      "text/plain": [
       "    Unnamed: 0                  Title  Year  Runtime                Country  \\\n",
       "1            0                Titanic  1997      194  United States, Mexico   \n",
       "2            1                Jumanji  1995      104          United States   \n",
       "3            2  To Kill a Mockingbird  1962      129          United States   \n",
       "4            3              The Whale  2011       85                 Canada   \n",
       "5            4                Top Gun  1986      110          United States   \n",
       "6            5              I Came By  2022      110         United Kingdom   \n",
       "7            6          The Godfather  1972      175          United States   \n",
       "8            7      Top Gun: Maverick  2022      130          United States   \n",
       "9            8           The Notebook  2004      123          United States   \n",
       "10           9              Halloween  1978       91          United States   \n",
       "11          10                  Mario  2018      124            Switzerland   \n",
       "12          11                  Hello  2008      129                  India   \n",
       "13          12                   Zola  2020       86          United States   \n",
       "14          13             Unforgiven  1992      130          United States   \n",
       "\n",
       "    Metascore  IMDBRating  \n",
       "1          75         7.9  \n",
       "2          39         7.0  \n",
       "3          88         8.3  \n",
       "4          64         8.1  \n",
       "5          50         6.9  \n",
       "6          57         6.1  \n",
       "7         100         9.2  \n",
       "8          78         8.4  \n",
       "9          53         7.8  \n",
       "10         87         7.7  \n",
       "11         -1         7.4  \n",
       "12         -1         3.3  \n",
       "13         76         6.5  \n",
       "14         85         8.2  "
      ]
     },
     "execution_count": 363,
     "metadata": {},
     "output_type": "execute_result"
    }
   ],
   "source": [
    "df_01 = df.copy()\n",
    "df_01.index = np.arange(1, len(df) +1)\n",
    "df_01"
   ]
  },
  {
   "cell_type": "code",
   "execution_count": 364,
   "metadata": {},
   "outputs": [
    {
     "data": {
      "text/html": [
       "<div>\n",
       "<style scoped>\n",
       "    .dataframe tbody tr th:only-of-type {\n",
       "        vertical-align: middle;\n",
       "    }\n",
       "\n",
       "    .dataframe tbody tr th {\n",
       "        vertical-align: top;\n",
       "    }\n",
       "\n",
       "    .dataframe thead th {\n",
       "        text-align: right;\n",
       "    }\n",
       "</style>\n",
       "<table border=\"1\" class=\"dataframe\">\n",
       "  <thead>\n",
       "    <tr style=\"text-align: right;\">\n",
       "      <th></th>\n",
       "      <th>User</th>\n",
       "      <th>Title</th>\n",
       "      <th>Year</th>\n",
       "      <th>Runtime</th>\n",
       "      <th>Country</th>\n",
       "      <th>Metascore</th>\n",
       "      <th>IMDBRating</th>\n",
       "    </tr>\n",
       "  </thead>\n",
       "  <tbody>\n",
       "    <tr>\n",
       "      <th>1</th>\n",
       "      <td>0</td>\n",
       "      <td>Titanic</td>\n",
       "      <td>1997</td>\n",
       "      <td>194</td>\n",
       "      <td>United States, Mexico</td>\n",
       "      <td>75</td>\n",
       "      <td>7.9</td>\n",
       "    </tr>\n",
       "    <tr>\n",
       "      <th>2</th>\n",
       "      <td>1</td>\n",
       "      <td>Jumanji</td>\n",
       "      <td>1995</td>\n",
       "      <td>104</td>\n",
       "      <td>United States</td>\n",
       "      <td>39</td>\n",
       "      <td>7.0</td>\n",
       "    </tr>\n",
       "    <tr>\n",
       "      <th>3</th>\n",
       "      <td>2</td>\n",
       "      <td>To Kill a Mockingbird</td>\n",
       "      <td>1962</td>\n",
       "      <td>129</td>\n",
       "      <td>United States</td>\n",
       "      <td>88</td>\n",
       "      <td>8.3</td>\n",
       "    </tr>\n",
       "    <tr>\n",
       "      <th>4</th>\n",
       "      <td>3</td>\n",
       "      <td>The Whale</td>\n",
       "      <td>2011</td>\n",
       "      <td>85</td>\n",
       "      <td>Canada</td>\n",
       "      <td>64</td>\n",
       "      <td>8.1</td>\n",
       "    </tr>\n",
       "    <tr>\n",
       "      <th>5</th>\n",
       "      <td>4</td>\n",
       "      <td>Top Gun</td>\n",
       "      <td>1986</td>\n",
       "      <td>110</td>\n",
       "      <td>United States</td>\n",
       "      <td>50</td>\n",
       "      <td>6.9</td>\n",
       "    </tr>\n",
       "    <tr>\n",
       "      <th>6</th>\n",
       "      <td>5</td>\n",
       "      <td>I Came By</td>\n",
       "      <td>2022</td>\n",
       "      <td>110</td>\n",
       "      <td>United Kingdom</td>\n",
       "      <td>57</td>\n",
       "      <td>6.1</td>\n",
       "    </tr>\n",
       "    <tr>\n",
       "      <th>7</th>\n",
       "      <td>6</td>\n",
       "      <td>The Godfather</td>\n",
       "      <td>1972</td>\n",
       "      <td>175</td>\n",
       "      <td>United States</td>\n",
       "      <td>100</td>\n",
       "      <td>9.2</td>\n",
       "    </tr>\n",
       "    <tr>\n",
       "      <th>8</th>\n",
       "      <td>7</td>\n",
       "      <td>Top Gun: Maverick</td>\n",
       "      <td>2022</td>\n",
       "      <td>130</td>\n",
       "      <td>United States</td>\n",
       "      <td>78</td>\n",
       "      <td>8.4</td>\n",
       "    </tr>\n",
       "    <tr>\n",
       "      <th>9</th>\n",
       "      <td>8</td>\n",
       "      <td>The Notebook</td>\n",
       "      <td>2004</td>\n",
       "      <td>123</td>\n",
       "      <td>United States</td>\n",
       "      <td>53</td>\n",
       "      <td>7.8</td>\n",
       "    </tr>\n",
       "    <tr>\n",
       "      <th>10</th>\n",
       "      <td>9</td>\n",
       "      <td>Halloween</td>\n",
       "      <td>1978</td>\n",
       "      <td>91</td>\n",
       "      <td>United States</td>\n",
       "      <td>87</td>\n",
       "      <td>7.7</td>\n",
       "    </tr>\n",
       "    <tr>\n",
       "      <th>11</th>\n",
       "      <td>10</td>\n",
       "      <td>Mario</td>\n",
       "      <td>2018</td>\n",
       "      <td>124</td>\n",
       "      <td>Switzerland</td>\n",
       "      <td>-1</td>\n",
       "      <td>7.4</td>\n",
       "    </tr>\n",
       "    <tr>\n",
       "      <th>12</th>\n",
       "      <td>11</td>\n",
       "      <td>Hello</td>\n",
       "      <td>2008</td>\n",
       "      <td>129</td>\n",
       "      <td>India</td>\n",
       "      <td>-1</td>\n",
       "      <td>3.3</td>\n",
       "    </tr>\n",
       "    <tr>\n",
       "      <th>13</th>\n",
       "      <td>12</td>\n",
       "      <td>Zola</td>\n",
       "      <td>2020</td>\n",
       "      <td>86</td>\n",
       "      <td>United States</td>\n",
       "      <td>76</td>\n",
       "      <td>6.5</td>\n",
       "    </tr>\n",
       "    <tr>\n",
       "      <th>14</th>\n",
       "      <td>13</td>\n",
       "      <td>Unforgiven</td>\n",
       "      <td>1992</td>\n",
       "      <td>130</td>\n",
       "      <td>United States</td>\n",
       "      <td>85</td>\n",
       "      <td>8.2</td>\n",
       "    </tr>\n",
       "  </tbody>\n",
       "</table>\n",
       "</div>"
      ],
      "text/plain": [
       "    User                  Title  Year  Runtime                Country  \\\n",
       "1      0                Titanic  1997      194  United States, Mexico   \n",
       "2      1                Jumanji  1995      104          United States   \n",
       "3      2  To Kill a Mockingbird  1962      129          United States   \n",
       "4      3              The Whale  2011       85                 Canada   \n",
       "5      4                Top Gun  1986      110          United States   \n",
       "6      5              I Came By  2022      110         United Kingdom   \n",
       "7      6          The Godfather  1972      175          United States   \n",
       "8      7      Top Gun: Maverick  2022      130          United States   \n",
       "9      8           The Notebook  2004      123          United States   \n",
       "10     9              Halloween  1978       91          United States   \n",
       "11    10                  Mario  2018      124            Switzerland   \n",
       "12    11                  Hello  2008      129                  India   \n",
       "13    12                   Zola  2020       86          United States   \n",
       "14    13             Unforgiven  1992      130          United States   \n",
       "\n",
       "    Metascore  IMDBRating  \n",
       "1          75         7.9  \n",
       "2          39         7.0  \n",
       "3          88         8.3  \n",
       "4          64         8.1  \n",
       "5          50         6.9  \n",
       "6          57         6.1  \n",
       "7         100         9.2  \n",
       "8          78         8.4  \n",
       "9          53         7.8  \n",
       "10         87         7.7  \n",
       "11         -1         7.4  \n",
       "12         -1         3.3  \n",
       "13         76         6.5  \n",
       "14         85         8.2  "
      ]
     },
     "execution_count": 364,
     "metadata": {},
     "output_type": "execute_result"
    }
   ],
   "source": [
    "df_03 = df_01.rename(columns={'Unnamed: 0' : \"User\"})\n",
    "df_03"
   ]
  },
  {
   "cell_type": "code",
   "execution_count": 365,
   "metadata": {},
   "outputs": [
    {
     "data": {
      "text/html": [
       "<div>\n",
       "<style scoped>\n",
       "    .dataframe tbody tr th:only-of-type {\n",
       "        vertical-align: middle;\n",
       "    }\n",
       "\n",
       "    .dataframe tbody tr th {\n",
       "        vertical-align: top;\n",
       "    }\n",
       "\n",
       "    .dataframe thead th {\n",
       "        text-align: right;\n",
       "    }\n",
       "</style>\n",
       "<table border=\"1\" class=\"dataframe\">\n",
       "  <thead>\n",
       "    <tr style=\"text-align: right;\">\n",
       "      <th></th>\n",
       "      <th>User</th>\n",
       "      <th>Title</th>\n",
       "      <th>Year</th>\n",
       "      <th>Runtime</th>\n",
       "      <th>Country</th>\n",
       "      <th>Metascore</th>\n",
       "      <th>IMDBRating</th>\n",
       "    </tr>\n",
       "  </thead>\n",
       "  <tbody>\n",
       "    <tr>\n",
       "      <th>1</th>\n",
       "      <td>1</td>\n",
       "      <td>Titanic</td>\n",
       "      <td>1997</td>\n",
       "      <td>194</td>\n",
       "      <td>United States, Mexico</td>\n",
       "      <td>75</td>\n",
       "      <td>7.9</td>\n",
       "    </tr>\n",
       "    <tr>\n",
       "      <th>2</th>\n",
       "      <td>2</td>\n",
       "      <td>Jumanji</td>\n",
       "      <td>1995</td>\n",
       "      <td>104</td>\n",
       "      <td>United States</td>\n",
       "      <td>39</td>\n",
       "      <td>7.0</td>\n",
       "    </tr>\n",
       "    <tr>\n",
       "      <th>3</th>\n",
       "      <td>3</td>\n",
       "      <td>To Kill a Mockingbird</td>\n",
       "      <td>1962</td>\n",
       "      <td>129</td>\n",
       "      <td>United States</td>\n",
       "      <td>88</td>\n",
       "      <td>8.3</td>\n",
       "    </tr>\n",
       "    <tr>\n",
       "      <th>4</th>\n",
       "      <td>4</td>\n",
       "      <td>The Whale</td>\n",
       "      <td>2011</td>\n",
       "      <td>85</td>\n",
       "      <td>Canada</td>\n",
       "      <td>64</td>\n",
       "      <td>8.1</td>\n",
       "    </tr>\n",
       "    <tr>\n",
       "      <th>5</th>\n",
       "      <td>5</td>\n",
       "      <td>Top Gun</td>\n",
       "      <td>1986</td>\n",
       "      <td>110</td>\n",
       "      <td>United States</td>\n",
       "      <td>50</td>\n",
       "      <td>6.9</td>\n",
       "    </tr>\n",
       "    <tr>\n",
       "      <th>6</th>\n",
       "      <td>6</td>\n",
       "      <td>I Came By</td>\n",
       "      <td>2022</td>\n",
       "      <td>110</td>\n",
       "      <td>United Kingdom</td>\n",
       "      <td>57</td>\n",
       "      <td>6.1</td>\n",
       "    </tr>\n",
       "    <tr>\n",
       "      <th>7</th>\n",
       "      <td>7</td>\n",
       "      <td>The Godfather</td>\n",
       "      <td>1972</td>\n",
       "      <td>175</td>\n",
       "      <td>United States</td>\n",
       "      <td>100</td>\n",
       "      <td>9.2</td>\n",
       "    </tr>\n",
       "    <tr>\n",
       "      <th>8</th>\n",
       "      <td>8</td>\n",
       "      <td>Top Gun: Maverick</td>\n",
       "      <td>2022</td>\n",
       "      <td>130</td>\n",
       "      <td>United States</td>\n",
       "      <td>78</td>\n",
       "      <td>8.4</td>\n",
       "    </tr>\n",
       "    <tr>\n",
       "      <th>9</th>\n",
       "      <td>9</td>\n",
       "      <td>The Notebook</td>\n",
       "      <td>2004</td>\n",
       "      <td>123</td>\n",
       "      <td>United States</td>\n",
       "      <td>53</td>\n",
       "      <td>7.8</td>\n",
       "    </tr>\n",
       "    <tr>\n",
       "      <th>10</th>\n",
       "      <td>10</td>\n",
       "      <td>Halloween</td>\n",
       "      <td>1978</td>\n",
       "      <td>91</td>\n",
       "      <td>United States</td>\n",
       "      <td>87</td>\n",
       "      <td>7.7</td>\n",
       "    </tr>\n",
       "    <tr>\n",
       "      <th>11</th>\n",
       "      <td>11</td>\n",
       "      <td>Mario</td>\n",
       "      <td>2018</td>\n",
       "      <td>124</td>\n",
       "      <td>Switzerland</td>\n",
       "      <td>-1</td>\n",
       "      <td>7.4</td>\n",
       "    </tr>\n",
       "    <tr>\n",
       "      <th>12</th>\n",
       "      <td>12</td>\n",
       "      <td>Hello</td>\n",
       "      <td>2008</td>\n",
       "      <td>129</td>\n",
       "      <td>India</td>\n",
       "      <td>-1</td>\n",
       "      <td>3.3</td>\n",
       "    </tr>\n",
       "    <tr>\n",
       "      <th>13</th>\n",
       "      <td>13</td>\n",
       "      <td>Zola</td>\n",
       "      <td>2020</td>\n",
       "      <td>86</td>\n",
       "      <td>United States</td>\n",
       "      <td>76</td>\n",
       "      <td>6.5</td>\n",
       "    </tr>\n",
       "    <tr>\n",
       "      <th>14</th>\n",
       "      <td>14</td>\n",
       "      <td>Unforgiven</td>\n",
       "      <td>1992</td>\n",
       "      <td>130</td>\n",
       "      <td>United States</td>\n",
       "      <td>85</td>\n",
       "      <td>8.2</td>\n",
       "    </tr>\n",
       "  </tbody>\n",
       "</table>\n",
       "</div>"
      ],
      "text/plain": [
       "    User                  Title  Year  Runtime                Country  \\\n",
       "1      1                Titanic  1997      194  United States, Mexico   \n",
       "2      2                Jumanji  1995      104          United States   \n",
       "3      3  To Kill a Mockingbird  1962      129          United States   \n",
       "4      4              The Whale  2011       85                 Canada   \n",
       "5      5                Top Gun  1986      110          United States   \n",
       "6      6              I Came By  2022      110         United Kingdom   \n",
       "7      7          The Godfather  1972      175          United States   \n",
       "8      8      Top Gun: Maverick  2022      130          United States   \n",
       "9      9           The Notebook  2004      123          United States   \n",
       "10    10              Halloween  1978       91          United States   \n",
       "11    11                  Mario  2018      124            Switzerland   \n",
       "12    12                  Hello  2008      129                  India   \n",
       "13    13                   Zola  2020       86          United States   \n",
       "14    14             Unforgiven  1992      130          United States   \n",
       "\n",
       "    Metascore  IMDBRating  \n",
       "1          75         7.9  \n",
       "2          39         7.0  \n",
       "3          88         8.3  \n",
       "4          64         8.1  \n",
       "5          50         6.9  \n",
       "6          57         6.1  \n",
       "7         100         9.2  \n",
       "8          78         8.4  \n",
       "9          53         7.8  \n",
       "10         87         7.7  \n",
       "11         -1         7.4  \n",
       "12         -1         3.3  \n",
       "13         76         6.5  \n",
       "14         85         8.2  "
      ]
     },
     "execution_count": 365,
     "metadata": {},
     "output_type": "execute_result"
    }
   ],
   "source": [
    "##df_01 = df.copy()\n",
    "df_03.User = np.arange(1, len(df) +1)\n",
    "df_03"
   ]
  },
  {
   "cell_type": "code",
   "execution_count": 366,
   "metadata": {},
   "outputs": [
    {
     "data": {
      "text/plain": [
       "1     7.9\n",
       "2     7.0\n",
       "3     8.3\n",
       "4     8.1\n",
       "5     6.9\n",
       "6     6.1\n",
       "7     9.2\n",
       "8     8.4\n",
       "9     7.8\n",
       "10    7.7\n",
       "11    7.4\n",
       "12    3.3\n",
       "13    6.5\n",
       "14    8.2\n",
       "Name: IMDBRating, dtype: float64"
      ]
     },
     "execution_count": 366,
     "metadata": {},
     "output_type": "execute_result"
    }
   ],
   "source": [
    "df_03[\"IMDBRating\"]"
   ]
  },
  {
   "cell_type": "code",
   "execution_count": 367,
   "metadata": {},
   "outputs": [
    {
     "data": {
      "text/html": [
       "<div>\n",
       "<style scoped>\n",
       "    .dataframe tbody tr th:only-of-type {\n",
       "        vertical-align: middle;\n",
       "    }\n",
       "\n",
       "    .dataframe tbody tr th {\n",
       "        vertical-align: top;\n",
       "    }\n",
       "\n",
       "    .dataframe thead th {\n",
       "        text-align: right;\n",
       "    }\n",
       "</style>\n",
       "<table border=\"1\" class=\"dataframe\">\n",
       "  <thead>\n",
       "    <tr style=\"text-align: right;\">\n",
       "      <th></th>\n",
       "      <th>Title</th>\n",
       "      <th>Average IMDB Rating</th>\n",
       "    </tr>\n",
       "  </thead>\n",
       "  <tbody>\n",
       "    <tr>\n",
       "      <th>0</th>\n",
       "      <td>The Godfather</td>\n",
       "      <td>9.2</td>\n",
       "    </tr>\n",
       "    <tr>\n",
       "      <th>1</th>\n",
       "      <td>Top Gun: Maverick</td>\n",
       "      <td>8.4</td>\n",
       "    </tr>\n",
       "    <tr>\n",
       "      <th>2</th>\n",
       "      <td>To Kill a Mockingbird</td>\n",
       "      <td>8.3</td>\n",
       "    </tr>\n",
       "    <tr>\n",
       "      <th>3</th>\n",
       "      <td>Unforgiven</td>\n",
       "      <td>8.2</td>\n",
       "    </tr>\n",
       "    <tr>\n",
       "      <th>4</th>\n",
       "      <td>The Whale</td>\n",
       "      <td>8.1</td>\n",
       "    </tr>\n",
       "    <tr>\n",
       "      <th>5</th>\n",
       "      <td>Titanic</td>\n",
       "      <td>7.9</td>\n",
       "    </tr>\n",
       "    <tr>\n",
       "      <th>6</th>\n",
       "      <td>The Notebook</td>\n",
       "      <td>7.8</td>\n",
       "    </tr>\n",
       "    <tr>\n",
       "      <th>7</th>\n",
       "      <td>Halloween</td>\n",
       "      <td>7.7</td>\n",
       "    </tr>\n",
       "    <tr>\n",
       "      <th>8</th>\n",
       "      <td>Mario</td>\n",
       "      <td>7.4</td>\n",
       "    </tr>\n",
       "    <tr>\n",
       "      <th>9</th>\n",
       "      <td>Jumanji</td>\n",
       "      <td>7.0</td>\n",
       "    </tr>\n",
       "  </tbody>\n",
       "</table>\n",
       "</div>"
      ],
      "text/plain": [
       "                   Title  Average IMDB Rating\n",
       "0          The Godfather                  9.2\n",
       "1      Top Gun: Maverick                  8.4\n",
       "2  To Kill a Mockingbird                  8.3\n",
       "3             Unforgiven                  8.2\n",
       "4              The Whale                  8.1\n",
       "5                Titanic                  7.9\n",
       "6           The Notebook                  7.8\n",
       "7              Halloween                  7.7\n",
       "8                  Mario                  7.4\n",
       "9                Jumanji                  7.0"
      ]
     },
     "execution_count": 367,
     "metadata": {},
     "output_type": "execute_result"
    }
   ],
   "source": [
    "movies_average_rating=df_03.groupby('Title')['IMDBRating'].mean().sort_values(ascending=False).reset_index().rename(columns={'IMDBRating':'Average IMDB Rating'})\n",
    "movies_average_rating.head(10)"
   ]
  },
  {
   "cell_type": "code",
   "execution_count": 368,
   "metadata": {},
   "outputs": [
    {
     "data": {
      "text/plain": [
       "1                   Titanic\n",
       "2                   Jumanji\n",
       "3     To Kill a Mockingbird\n",
       "4                 The Whale\n",
       "5                   Top Gun\n",
       "6                 I Came By\n",
       "7             The Godfather\n",
       "8         Top Gun: Maverick\n",
       "9              The Notebook\n",
       "10                Halloween\n",
       "11                    Mario\n",
       "12                    Hello\n",
       "13                     Zola\n",
       "14               Unforgiven\n",
       "Name: Title, dtype: object"
      ]
     },
     "execution_count": 368,
     "metadata": {},
     "output_type": "execute_result"
    }
   ],
   "source": [
    "df_03[\"Title\"]"
   ]
  },
  {
   "cell_type": "markdown",
   "metadata": {},
   "source": [
    "### TF-IDF Model: "
   ]
  },
  {
   "cell_type": "code",
   "execution_count": 397,
   "metadata": {},
   "outputs": [],
   "source": [
    "from ast import literal_eval\n",
    "from sklearn.feature_extraction.text import TfidfVectorizer, CountVectorizer\n",
    "from sklearn.metrics.pairwise import linear_kernel, cosine_similarity\n",
    "from nltk.stem.snowball import SnowballStemmer\n",
    "from nltk.stem.wordnet import WordNetLemmatizer\n",
    "from nltk.corpus import wordnet\n",
    "##from surprise import Reader, Dataset, SVD, evaluate\n",
    "\n",
    "import warnings; warnings.simplefilter('ignore')"
   ]
  },
  {
   "cell_type": "markdown",
   "metadata": {},
   "source": [
    "Cosine Similarity: \n",
    "I will be using the Cosine Similarity to calculate a numeric quantity that denotes the similarity between two movies. Mathematically, it is defined as follows: cosine(x,y)=x.y⊺ / ||x||.||y||"
   ]
  },
  {
   "cell_type": "code",
   "execution_count": 398,
   "metadata": {},
   "outputs": [],
   "source": [
    "tf = TfidfVectorizer(analyzer='word',ngram_range=(1, 2),min_df=0, stop_words='english')\n",
    "tfidf_matrix = tf.fit_transform(df_03['Title'])"
   ]
  },
  {
   "cell_type": "code",
   "execution_count": 399,
   "metadata": {},
   "outputs": [
    {
     "data": {
      "text/plain": [
       "(14, 17)"
      ]
     },
     "execution_count": 399,
     "metadata": {},
     "output_type": "execute_result"
    }
   ],
   "source": [
    "tfidf_matrix.shape"
   ]
  },
  {
   "cell_type": "markdown",
   "metadata": {},
   "source": [
    "Since we have used the TF-IDF Vectorizer, calculating the Dot Product will directly give us the Cosine Similarity Score. Therefore, we will use sklearn's linear_kernel instead of cosine_similarities since it is much faster."
   ]
  },
  {
   "cell_type": "code",
   "execution_count": 400,
   "metadata": {},
   "outputs": [],
   "source": [
    "cosine_sim = linear_kernel(tfidf_matrix, tfidf_matrix)"
   ]
  },
  {
   "cell_type": "code",
   "execution_count": 401,
   "metadata": {},
   "outputs": [
    {
     "data": {
      "text/plain": [
       "array([1., 0., 0., 0., 0., 0., 0., 0., 0., 0., 0., 0., 0., 0.])"
      ]
     },
     "execution_count": 401,
     "metadata": {},
     "output_type": "execute_result"
    }
   ],
   "source": [
    "cosine_sim[0]"
   ]
  },
  {
   "cell_type": "code",
   "execution_count": 402,
   "metadata": {},
   "outputs": [],
   "source": [
    "titles = df_03['Title']\n",
    "indices = pd.Series(df_03.index, index=df_03['Title'])"
   ]
  },
  {
   "cell_type": "markdown",
   "metadata": {},
   "source": [
    "We now have a pairwise cosine similarity matrix for all the movies in our dataset. The next step is to write a function that returns the most similar movies based on the cosine similarity score."
   ]
  },
  {
   "cell_type": "code",
   "execution_count": 403,
   "metadata": {},
   "outputs": [],
   "source": [
    "def get_recommendations(title):\n",
    "    idx = indices[title]\n",
    "    sim_scores = list(enumerate(cosine_sim[idx]))\n",
    "    sim_scores = sorted(sim_scores, key=lambda x: x[1], reverse=True)\n",
    "    sim_scores = sim_scores[1:31]\n",
    "    movie_indices = [i[0] for i in sim_scores]\n",
    "    return titles.iloc[movie_indices]"
   ]
  },
  {
   "cell_type": "markdown",
   "metadata": {},
   "source": [
    "Let's see the top recommendation for the movie that we want to select"
   ]
  },
  {
   "cell_type": "code",
   "execution_count": 404,
   "metadata": {},
   "outputs": [
    {
     "data": {
      "text/plain": [
       "1                   Titanic\n",
       "2                   Jumanji\n",
       "3     To Kill a Mockingbird\n",
       "4                 The Whale\n",
       "5                   Top Gun\n",
       "7             The Godfather\n",
       "8         Top Gun: Maverick\n",
       "9              The Notebook\n",
       "10                Halloween\n",
       "11                    Mario\n",
       "12                    Hello\n",
       "13                     Zola\n",
       "14               Unforgiven\n",
       "Name: Title, dtype: object"
      ]
     },
     "execution_count": 404,
     "metadata": {},
     "output_type": "execute_result"
    }
   ],
   "source": [
    "get_recommendations('Top Gun').head(30)"
   ]
  },
  {
   "cell_type": "markdown",
   "metadata": {},
   "source": [
    "## Item-Item Collaborative Filtering Model"
   ]
  },
  {
   "cell_type": "code",
   "execution_count": 377,
   "metadata": {},
   "outputs": [],
   "source": [
    "from lightfm import LightFM\n",
    "from lightfm.datasets import fetch_movielens\n",
    "from lightfm.evaluation import precision_at_k\n",
    "from lightfm.cross_validation import random_train_test_split\n",
    "import scipy.sparse as sp"
   ]
  },
  {
   "cell_type": "code",
   "execution_count": 378,
   "metadata": {},
   "outputs": [],
   "source": [
    "ratings = np.array(df_03['IMDBRating'])\n",
    "users = np.array(df_03['User'])\n",
    "items = np.array(df_03['Title'])"
   ]
  },
  {
   "cell_type": "code",
   "execution_count": 379,
   "metadata": {},
   "outputs": [],
   "source": [
    "from sklearn.preprocessing import LabelEncoder\n",
    "\n",
    "# heavy lifting encoders\n",
    "user_encoder = LabelEncoder()\n",
    "item_encoder = LabelEncoder()"
   ]
  },
  {
   "cell_type": "code",
   "execution_count": 380,
   "metadata": {},
   "outputs": [],
   "source": [
    "# preparation for the csr matrix\n",
    "u = user_encoder.fit_transform(users)\n",
    "i = item_encoder.fit_transform(items)\n",
    "lu = len(np.unique(u))\n",
    "li = len(np.unique(i))"
   ]
  },
  {
   "cell_type": "code",
   "execution_count": 381,
   "metadata": {},
   "outputs": [],
   "source": [
    "matrix = sp.coo_matrix((ratings, (u, i)), shape=(lu, li))"
   ]
  },
  {
   "cell_type": "code",
   "execution_count": 382,
   "metadata": {},
   "outputs": [
    {
     "data": {
      "text/plain": [
       "matrix([[0. , 0. , 0. , 0. , 0. , 0. , 0. , 0. , 7.9, 0. , 0. , 0. , 0. ,\n",
       "         0. ],\n",
       "        [0. , 0. , 0. , 7. , 0. , 0. , 0. , 0. , 0. , 0. , 0. , 0. , 0. ,\n",
       "         0. ],\n",
       "        [0. , 0. , 0. , 0. , 0. , 0. , 0. , 0. , 0. , 8.3, 0. , 0. , 0. ,\n",
       "         0. ],\n",
       "        [0. , 0. , 0. , 0. , 0. , 0. , 0. , 8.1, 0. , 0. , 0. , 0. , 0. ,\n",
       "         0. ],\n",
       "        [0. , 0. , 0. , 0. , 0. , 0. , 0. , 0. , 0. , 0. , 6.9, 0. , 0. ,\n",
       "         0. ],\n",
       "        [0. , 0. , 6.1, 0. , 0. , 0. , 0. , 0. , 0. , 0. , 0. , 0. , 0. ,\n",
       "         0. ],\n",
       "        [0. , 0. , 0. , 0. , 0. , 9.2, 0. , 0. , 0. , 0. , 0. , 0. , 0. ,\n",
       "         0. ],\n",
       "        [0. , 0. , 0. , 0. , 0. , 0. , 0. , 0. , 0. , 0. , 0. , 8.4, 0. ,\n",
       "         0. ],\n",
       "        [0. , 0. , 0. , 0. , 0. , 0. , 7.8, 0. , 0. , 0. , 0. , 0. , 0. ,\n",
       "         0. ],\n",
       "        [7.7, 0. , 0. , 0. , 0. , 0. , 0. , 0. , 0. , 0. , 0. , 0. , 0. ,\n",
       "         0. ],\n",
       "        [0. , 0. , 0. , 0. , 7.4, 0. , 0. , 0. , 0. , 0. , 0. , 0. , 0. ,\n",
       "         0. ],\n",
       "        [0. , 3.3, 0. , 0. , 0. , 0. , 0. , 0. , 0. , 0. , 0. , 0. , 0. ,\n",
       "         0. ],\n",
       "        [0. , 0. , 0. , 0. , 0. , 0. , 0. , 0. , 0. , 0. , 0. , 0. , 0. ,\n",
       "         6.5],\n",
       "        [0. , 0. , 0. , 0. , 0. , 0. , 0. , 0. , 0. , 0. , 0. , 0. , 8.2,\n",
       "         0. ]])"
      ]
     },
     "execution_count": 382,
     "metadata": {},
     "output_type": "execute_result"
    }
   ],
   "source": [
    "matrix.todense()"
   ]
  },
  {
   "cell_type": "code",
   "execution_count": 383,
   "metadata": {},
   "outputs": [
    {
     "data": {
      "text/plain": [
       "array(['Halloween', 'Hello', 'I Came By', 'Jumanji', 'Mario',\n",
       "       'The Godfather', 'The Notebook', 'The Whale', 'Titanic',\n",
       "       'To Kill a Mockingbird', 'Top Gun', 'Top Gun: Maverick',\n",
       "       'Unforgiven', 'Zola'], dtype=object)"
      ]
     },
     "execution_count": 383,
     "metadata": {},
     "output_type": "execute_result"
    }
   ],
   "source": [
    "item_encoder.classes_[:15]"
   ]
  },
  {
   "cell_type": "code",
   "execution_count": 384,
   "metadata": {},
   "outputs": [
    {
     "data": {
      "text/plain": [
       "array([ 1,  2,  3,  4,  5,  6,  7,  8,  9, 10, 11, 12, 13, 14])"
      ]
     },
     "execution_count": 384,
     "metadata": {},
     "output_type": "execute_result"
    }
   ],
   "source": [
    "user_encoder.classes_[:15]"
   ]
  },
  {
   "cell_type": "code",
   "execution_count": 385,
   "metadata": {},
   "outputs": [],
   "source": [
    "from lightfm.cross_validation import random_train_test_split\n",
    "\n",
    "train, test = random_train_test_split(matrix, test_percentage=0.2)"
   ]
  },
  {
   "cell_type": "code",
   "execution_count": 386,
   "metadata": {},
   "outputs": [
    {
     "data": {
      "text/plain": [
       "<lightfm.lightfm.LightFM at 0x7fdc5557d2e8>"
      ]
     },
     "execution_count": 386,
     "metadata": {},
     "output_type": "execute_result"
    }
   ],
   "source": [
    "model = LightFM()\n",
    "model.fit(train)"
   ]
  },
  {
   "cell_type": "code",
   "execution_count": 387,
   "metadata": {},
   "outputs": [
    {
     "data": {
      "text/plain": [
       "0.0"
      ]
     },
     "execution_count": 387,
     "metadata": {},
     "output_type": "execute_result"
    }
   ],
   "source": [
    "from lightfm.evaluation import precision_at_k\n",
    "\n",
    "precision_at_k(model, test, k=10).mean()"
   ]
  },
  {
   "cell_type": "code",
   "execution_count": 391,
   "metadata": {},
   "outputs": [],
   "source": [
    "user = 1\n",
    "user_id = int(user_encoder.transform([user])[0])"
   ]
  },
  {
   "cell_type": "code",
   "execution_count": 392,
   "metadata": {},
   "outputs": [
    {
     "data": {
      "text/plain": [
       "array([1])"
      ]
     },
     "execution_count": 392,
     "metadata": {},
     "output_type": "execute_result"
    }
   ],
   "source": [
    "user_encoder.inverse_transform([user_id])"
   ]
  },
  {
   "cell_type": "code",
   "execution_count": 393,
   "metadata": {},
   "outputs": [
    {
     "data": {
      "text/plain": [
       "dtype('int32')"
      ]
     },
     "execution_count": 393,
     "metadata": {},
     "output_type": "execute_result"
    }
   ],
   "source": [
    "all_movie_ids = np.array(list(range(len(item_encoder.classes_))),dtype=np.int32)\n",
    "all_movie_ids.dtype"
   ]
  },
  {
   "cell_type": "code",
   "execution_count": 394,
   "metadata": {},
   "outputs": [],
   "source": [
    "preds = model.predict(user_id, all_movie_ids)"
   ]
  },
  {
   "cell_type": "code",
   "execution_count": 395,
   "metadata": {},
   "outputs": [
    {
     "data": {
      "text/html": [
       "<div>\n",
       "<style scoped>\n",
       "    .dataframe tbody tr th:only-of-type {\n",
       "        vertical-align: middle;\n",
       "    }\n",
       "\n",
       "    .dataframe tbody tr th {\n",
       "        vertical-align: top;\n",
       "    }\n",
       "\n",
       "    .dataframe thead th {\n",
       "        text-align: right;\n",
       "    }\n",
       "</style>\n",
       "<table border=\"1\" class=\"dataframe\">\n",
       "  <thead>\n",
       "    <tr style=\"text-align: right;\">\n",
       "      <th></th>\n",
       "      <th>Movie</th>\n",
       "      <th>Prediction</th>\n",
       "    </tr>\n",
       "  </thead>\n",
       "  <tbody>\n",
       "    <tr>\n",
       "      <th>13</th>\n",
       "      <td>Zola</td>\n",
       "      <td>0.027380</td>\n",
       "    </tr>\n",
       "    <tr>\n",
       "      <th>11</th>\n",
       "      <td>Top Gun: Maverick</td>\n",
       "      <td>0.026299</td>\n",
       "    </tr>\n",
       "    <tr>\n",
       "      <th>2</th>\n",
       "      <td>I Came By</td>\n",
       "      <td>0.026211</td>\n",
       "    </tr>\n",
       "    <tr>\n",
       "      <th>9</th>\n",
       "      <td>To Kill a Mockingbird</td>\n",
       "      <td>0.024825</td>\n",
       "    </tr>\n",
       "    <tr>\n",
       "      <th>1</th>\n",
       "      <td>Hello</td>\n",
       "      <td>0.024755</td>\n",
       "    </tr>\n",
       "    <tr>\n",
       "      <th>3</th>\n",
       "      <td>Jumanji</td>\n",
       "      <td>0.023918</td>\n",
       "    </tr>\n",
       "    <tr>\n",
       "      <th>4</th>\n",
       "      <td>Mario</td>\n",
       "      <td>0.023016</td>\n",
       "    </tr>\n",
       "    <tr>\n",
       "      <th>5</th>\n",
       "      <td>The Godfather</td>\n",
       "      <td>0.022809</td>\n",
       "    </tr>\n",
       "    <tr>\n",
       "      <th>6</th>\n",
       "      <td>The Notebook</td>\n",
       "      <td>0.021958</td>\n",
       "    </tr>\n",
       "    <tr>\n",
       "      <th>7</th>\n",
       "      <td>The Whale</td>\n",
       "      <td>0.021769</td>\n",
       "    </tr>\n",
       "    <tr>\n",
       "      <th>0</th>\n",
       "      <td>Halloween</td>\n",
       "      <td>0.020124</td>\n",
       "    </tr>\n",
       "    <tr>\n",
       "      <th>12</th>\n",
       "      <td>Unforgiven</td>\n",
       "      <td>0.004025</td>\n",
       "    </tr>\n",
       "    <tr>\n",
       "      <th>10</th>\n",
       "      <td>Top Gun</td>\n",
       "      <td>0.003329</td>\n",
       "    </tr>\n",
       "    <tr>\n",
       "      <th>8</th>\n",
       "      <td>Titanic</td>\n",
       "      <td>-0.001077</td>\n",
       "    </tr>\n",
       "  </tbody>\n",
       "</table>\n",
       "</div>"
      ],
      "text/plain": [
       "                    Movie  Prediction\n",
       "13                   Zola    0.027380\n",
       "11      Top Gun: Maverick    0.026299\n",
       "2               I Came By    0.026211\n",
       "9   To Kill a Mockingbird    0.024825\n",
       "1                   Hello    0.024755\n",
       "3                 Jumanji    0.023918\n",
       "4                   Mario    0.023016\n",
       "5           The Godfather    0.022809\n",
       "6            The Notebook    0.021958\n",
       "7               The Whale    0.021769\n",
       "0               Halloween    0.020124\n",
       "12             Unforgiven    0.004025\n",
       "10                Top Gun    0.003329\n",
       "8                 Titanic   -0.001077"
      ]
     },
     "execution_count": 395,
     "metadata": {},
     "output_type": "execute_result"
    }
   ],
   "source": [
    "all_movies = pd.DataFrame(\n",
    "    zip(item_encoder.classes_, preds),\n",
    "    columns=['Movie', 'Prediction']\n",
    ").sort_values(\n",
    "    'Prediction', ascending=False\n",
    ")\n",
    "\n",
    "all_movies.head(15)"
   ]
  },
  {
   "cell_type": "markdown",
   "metadata": {},
   "source": [
    "Summary: Content-based and item-item collaborative filtering algorithm gives us completely different recommendation, we need more data to be able to evaluate the performance of our models. "
   ]
  },
  {
   "cell_type": "markdown",
   "metadata": {},
   "source": [
    "Sourrces: \n",
    "https://www.kaggle.com/code/rounakbanik/movie-recommender-systems\n",
    "\n",
    "https://towardsdatascience.com/step-by-step-guide-to-build-your-own-mini-imdb-database-fc39af27d21b\n",
    "\n",
    "https://www.geeksforgeeks.org/python-implementation-of-movie-recommender-system/"
   ]
  }
 ],
 "metadata": {
  "kernelspec": {
   "display_name": "Python 3",
   "language": "python",
   "name": "python3"
  },
  "language_info": {
   "codemirror_mode": {
    "name": "ipython",
    "version": 3
   },
   "file_extension": ".py",
   "mimetype": "text/x-python",
   "name": "python",
   "nbconvert_exporter": "python",
   "pygments_lexer": "ipython3",
   "version": "3.6.5"
  }
 },
 "nbformat": 4,
 "nbformat_minor": 2
}
